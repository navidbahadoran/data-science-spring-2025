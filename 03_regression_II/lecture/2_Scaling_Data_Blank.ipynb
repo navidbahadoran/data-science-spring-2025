{
 "cells": [
  {
   "cell_type": "markdown",
   "id": "afd2c672",
   "metadata": {},
   "source": [
    "# Scaling Data\n",
    "\n",
    "Sometimes prior to fitting a model or running an algorithm we will need to scale our data. This is particularly true when some features (columns of $X$) are on vastly different scales than others. In this notebook we will demonstrate how to scale.\n",
    "\n",
    "## What we will accomplish\n",
    "\n",
    "In this notebook we will:\n",
    "- Introduce the concept of scaling your data,\n",
    "- Demonstrate the `StandardScaler` object in `sklearn`,\n",
    "- Discuss `fit`, `transform` and `fit_transform` and\n",
    "- Show the scaling process using `sklearn`."
   ]
  },
  {
   "cell_type": "markdown",
   "id": "b50ac0a8",
   "metadata": {},
   "source": [
    "Before we get started let's generate some data."
   ]
  },
  {
   "cell_type": "code",
   "execution_count": 1,
   "id": "8b38485e",
   "metadata": {},
   "outputs": [],
   "source": [
    "import numpy as np"
   ]
  },
  {
   "cell_type": "code",
   "execution_count": 2,
   "id": "5bf06094",
   "metadata": {},
   "outputs": [],
   "source": [
    "## Make some data\n",
    "## Notice that the columns of X have vastly different scales\n",
    "rng = np.random.default_rng(440)\n",
    "X = np.zeros((1000, 4))\n",
    "X[:, 0] = 1000 * rng.standard_normal(1000)\n",
    "X[:, 1] = rng.random(1000) - 10\n",
    "X[:, 2] = rng.integers(-250, 150, 1000)\n",
    "X[:, 3] = 10 * rng.standard_normal(1000) - 75"
   ]
  },
  {
   "cell_type": "code",
   "execution_count": 3,
   "id": "b4234a86",
   "metadata": {},
   "outputs": [
    {
     "name": "stdout",
     "output_type": "stream",
     "text": [
      "mean of X1: 11.935201655200657\n",
      "variance of X1: 1026903.0991374647\n",
      "\n",
      "mean of X2: -9.503242684051795\n",
      "variance of X2: 0.0821580848191559\n",
      "\n",
      "mean of X3: -52.442\n",
      "variance of X3: 13772.400636\n",
      "\n",
      "mean of X4: -74.45477168608731\n",
      "variance of X4: 96.85199591904106\n"
     ]
    }
   ],
   "source": [
    "## demonstrating the different scales\n",
    "print(\"mean of X1:\",np.mean(X[:,0]))\n",
    "print(\"variance of X1:\",np.var(X[:,0]))\n",
    "print()\n",
    "\n",
    "print(\"mean of X2:\",np.mean(X[:,1]))\n",
    "print(\"variance of X2:\",np.var(X[:,1]))\n",
    "print()\n",
    "\n",
    "print(\"mean of X3:\",np.mean(X[:,2]))\n",
    "print(\"variance of X3:\",np.var(X[:,2]))\n",
    "print()\n",
    "\n",
    "print(\"mean of X4:\",np.mean(X[:,3]))\n",
    "print(\"variance of X4:\",np.var(X[:,3]))"
   ]
  },
  {
   "cell_type": "markdown",
   "id": "54830fd4",
   "metadata": {},
   "source": [
    "We can see that the columns of `X` have very different scales. We will soon learn some algorithms whose results can be greatly distorted when this happens.\n",
    "\n",
    "The main approach to fixing this issue is to scale the data so they are all on the same scale."
   ]
  },
  {
   "cell_type": "markdown",
   "id": "926d97f9",
   "metadata": {},
   "source": [
    "## Standardizing your data\n",
    "\n",
    "While there are a few different ways to scale data, one of the most common is to <i>standardize</i> it. When you standardize a variable, $x$, you apply the following transformation:\n",
    "\n",
    "$$\n",
    "x_\\text{scaled} = \\frac{x - \\text{mean}(x)}{\\text{standard deviation}(x)},\n",
    "$$\n",
    "\n",
    "if you have taken a statistics course (or used $Z$-tables), this should look familiar. This is precisely the transformation applied to turn any arbitary normal random variable into a <i>standard normal</i> random variable, hence the term <i>standardizing</i>.\n",
    "\n",
    "Standardizing your data will transform it to have mean $0$ and standard deviation $1$.\n",
    "\n",
    "### `StandardScaler`\n",
    "\n",
    "We could do this by hand using `numpy`, but that will quickly become tedious. `sklearn` provides a nice `scaler` object called `StandardScaler` that will perform this on all columns of your data set, and has functionality that plays nicely with train test splits. Here is the documentation <a href=\"https://scikit-learn.org/stable/modules/generated/sklearn.preprocessing.StandardScaler.html\">https://scikit-learn.org/stable/modules/generated/sklearn.preprocessing.StandardScaler.html</a>."
   ]
  },
  {
   "cell_type": "code",
   "execution_count": 4,
   "id": "b51f36ca",
   "metadata": {},
   "outputs": [],
   "source": [
    "## import StandardScaler\n"
   ]
  },
  {
   "cell_type": "code",
   "execution_count": 5,
   "id": "8bbf42b7",
   "metadata": {},
   "outputs": [
    {
     "data": {
      "text/html": [
       "<style>#sk-container-id-1 {color: black;background-color: white;}#sk-container-id-1 pre{padding: 0;}#sk-container-id-1 div.sk-toggleable {background-color: white;}#sk-container-id-1 label.sk-toggleable__label {cursor: pointer;display: block;width: 100%;margin-bottom: 0;padding: 0.3em;box-sizing: border-box;text-align: center;}#sk-container-id-1 label.sk-toggleable__label-arrow:before {content: \"▸\";float: left;margin-right: 0.25em;color: #696969;}#sk-container-id-1 label.sk-toggleable__label-arrow:hover:before {color: black;}#sk-container-id-1 div.sk-estimator:hover label.sk-toggleable__label-arrow:before {color: black;}#sk-container-id-1 div.sk-toggleable__content {max-height: 0;max-width: 0;overflow: hidden;text-align: left;background-color: #f0f8ff;}#sk-container-id-1 div.sk-toggleable__content pre {margin: 0.2em;color: black;border-radius: 0.25em;background-color: #f0f8ff;}#sk-container-id-1 input.sk-toggleable__control:checked~div.sk-toggleable__content {max-height: 200px;max-width: 100%;overflow: auto;}#sk-container-id-1 input.sk-toggleable__control:checked~label.sk-toggleable__label-arrow:before {content: \"▾\";}#sk-container-id-1 div.sk-estimator input.sk-toggleable__control:checked~label.sk-toggleable__label {background-color: #d4ebff;}#sk-container-id-1 div.sk-label input.sk-toggleable__control:checked~label.sk-toggleable__label {background-color: #d4ebff;}#sk-container-id-1 input.sk-hidden--visually {border: 0;clip: rect(1px 1px 1px 1px);clip: rect(1px, 1px, 1px, 1px);height: 1px;margin: -1px;overflow: hidden;padding: 0;position: absolute;width: 1px;}#sk-container-id-1 div.sk-estimator {font-family: monospace;background-color: #f0f8ff;border: 1px dotted black;border-radius: 0.25em;box-sizing: border-box;margin-bottom: 0.5em;}#sk-container-id-1 div.sk-estimator:hover {background-color: #d4ebff;}#sk-container-id-1 div.sk-parallel-item::after {content: \"\";width: 100%;border-bottom: 1px solid gray;flex-grow: 1;}#sk-container-id-1 div.sk-label:hover label.sk-toggleable__label {background-color: #d4ebff;}#sk-container-id-1 div.sk-serial::before {content: \"\";position: absolute;border-left: 1px solid gray;box-sizing: border-box;top: 0;bottom: 0;left: 50%;z-index: 0;}#sk-container-id-1 div.sk-serial {display: flex;flex-direction: column;align-items: center;background-color: white;padding-right: 0.2em;padding-left: 0.2em;position: relative;}#sk-container-id-1 div.sk-item {position: relative;z-index: 1;}#sk-container-id-1 div.sk-parallel {display: flex;align-items: stretch;justify-content: center;background-color: white;position: relative;}#sk-container-id-1 div.sk-item::before, #sk-container-id-1 div.sk-parallel-item::before {content: \"\";position: absolute;border-left: 1px solid gray;box-sizing: border-box;top: 0;bottom: 0;left: 50%;z-index: -1;}#sk-container-id-1 div.sk-parallel-item {display: flex;flex-direction: column;z-index: 1;position: relative;background-color: white;}#sk-container-id-1 div.sk-parallel-item:first-child::after {align-self: flex-end;width: 50%;}#sk-container-id-1 div.sk-parallel-item:last-child::after {align-self: flex-start;width: 50%;}#sk-container-id-1 div.sk-parallel-item:only-child::after {width: 0;}#sk-container-id-1 div.sk-dashed-wrapped {border: 1px dashed gray;margin: 0 0.4em 0.5em 0.4em;box-sizing: border-box;padding-bottom: 0.4em;background-color: white;}#sk-container-id-1 div.sk-label label {font-family: monospace;font-weight: bold;display: inline-block;line-height: 1.2em;}#sk-container-id-1 div.sk-label-container {text-align: center;}#sk-container-id-1 div.sk-container {/* jupyter's `normalize.less` sets `[hidden] { display: none; }` but bootstrap.min.css set `[hidden] { display: none !important; }` so we also need the `!important` here to be able to override the default hidden behavior on the sphinx rendered scikit-learn.org. See: https://github.com/scikit-learn/scikit-learn/issues/21755 */display: inline-block !important;position: relative;}#sk-container-id-1 div.sk-text-repr-fallback {display: none;}</style><div id=\"sk-container-id-1\" class=\"sk-top-container\"><div class=\"sk-text-repr-fallback\"><pre>StandardScaler()</pre><b>In a Jupyter environment, please rerun this cell to show the HTML representation or trust the notebook. <br />On GitHub, the HTML representation is unable to render, please try loading this page with nbviewer.org.</b></div><div class=\"sk-container\" hidden><div class=\"sk-item\"><div class=\"sk-estimator sk-toggleable\"><input class=\"sk-toggleable__control sk-hidden--visually\" id=\"sk-estimator-id-1\" type=\"checkbox\" checked><label for=\"sk-estimator-id-1\" class=\"sk-toggleable__label sk-toggleable__label-arrow\">StandardScaler</label><div class=\"sk-toggleable__content\"><pre>StandardScaler()</pre></div></div></div></div></div>"
      ],
      "text/plain": [
       "StandardScaler()"
      ]
     },
     "execution_count": 5,
     "metadata": {},
     "output_type": "execute_result"
    }
   ],
   "source": [
    "## Make a scaler object\n",
    "scaler = \n",
    "\n",
    "## fit the scaler\n"
   ]
  },
  {
   "cell_type": "code",
   "execution_count": 6,
   "id": "e690b22a",
   "metadata": {},
   "outputs": [],
   "source": [
    "## scale the data, i.e. transform it\n",
    "X_scale = "
   ]
  },
  {
   "cell_type": "code",
   "execution_count": 7,
   "id": "d085ba66",
   "metadata": {},
   "outputs": [
    {
     "name": "stdout",
     "output_type": "stream",
     "text": [
      "mean of standardized X1: -2.4868995751603507e-17\n",
      "variance of standardized X1: 1.000000000000001\n",
      "\n",
      "mean of standardized X2: -3.849809360190193e-14\n",
      "variance of standardized X2: 0.9999999999999999\n",
      "\n",
      "mean of standardized X3: 4.085620730620576e-17\n",
      "variance of standardized X3: 0.9999999999999991\n",
      "\n",
      "mean of standardized X4: -1.0054179711005418e-14\n",
      "variance of standardized X4: 1.0\n"
     ]
    }
   ],
   "source": [
    "## Checking the scaled means and variances\n",
    "print(\"mean of standardized X1:\",np.mean(X_scale[:,0]))\n",
    "print(\"variance of standardized X1:\",np.var(X_scale[:,0]))\n",
    "print()\n",
    "\n",
    "print(\"mean of standardized X2:\",np.mean(X_scale[:,1]))\n",
    "print(\"variance of standardized X2:\",np.var(X_scale[:,1]))\n",
    "print()\n",
    "\n",
    "print(\"mean of standardized X3:\",np.mean(X_scale[:,2]))\n",
    "print(\"variance of standardized X3:\",np.var(X_scale[:,2]))\n",
    "print()\n",
    "\n",
    "print(\"mean of standardized X4:\",np.mean(X_scale[:,3]))\n",
    "print(\"variance of standardized X4:\",np.var(X_scale[:,3]))"
   ]
  },
  {
   "cell_type": "markdown",
   "id": "8d58851b",
   "metadata": {},
   "source": [
    "#### `fit`, `transform` and `fit_transform` & scaling for train test splits\n",
    "\n",
    "You may be wondering what `fit`, `transform` and `fit_transform` do. Let's describe:\n",
    "- `fit` performs a fit of the `scaler` object, for `StandardScaler` this means finding the mean and standard deviation of each column and storing it. `fit` must be called <i>before</i> `transform`.\n",
    "- `transform` is what actually performs the scaling, for `StandardScaler` this means substracting the respective means and dividing by the respective standard deviations for each column. `transform` must be called <i>after</i> `fit`.\n",
    "- `fit_transform` does this all in one fell swoop, i.e. it fits the `scaler` object then uses the fit to transform the data.\n",
    "\n",
    "##### Why do we need anything other than `fit_transform`?\n",
    "\n",
    "Excellent question! In the example above we probably could have just used `fit_transform`.\n",
    "\n",
    "However, this is because we were not dealing with train test splits, validation sets or cross-validation. We consider scaling the data part of the model, meaning the algorithm/model was fit using the data scaled with the training set's means and standard deviations. For example, if we scaled data prior to fitting a linear regression model, then $\\hat{\\beta}$ was found using the data scaled according to the training set (using the means and standard deviations of the training set columns). To assess how that particular model performs we must also scale any validation set, cross-validation holdout set or test set using the same exact scaling (i.e. using the means and standard deviations from the training set).\n",
    "\n",
    "Let's illustrate what I mean with a quick final example."
   ]
  },
  {
   "cell_type": "code",
   "execution_count": 8,
   "id": "8b82d4ae",
   "metadata": {},
   "outputs": [],
   "source": [
    "from sklearn.model_selection import train_test_split"
   ]
  },
  {
   "cell_type": "code",
   "execution_count": 9,
   "id": "e28607de",
   "metadata": {},
   "outputs": [],
   "source": [
    "X_train, X_test = train_test_split(X,\n",
    "                                      shuffle=True,\n",
    "                                      random_state=614,\n",
    "                                      test_size=.2)"
   ]
  },
  {
   "cell_type": "code",
   "execution_count": 10,
   "id": "9c55b878",
   "metadata": {},
   "outputs": [],
   "source": [
    "## Fit then transform the training set\n",
    "scaler_new = StandardScaler()\n",
    "\n",
    "scaler_new.fit(X_train)\n",
    "\n",
    "X_train_scale = scaler_new.transform(X_train)\n",
    "\n",
    "## alternatively I could do\n",
    "## X_train_scale = scaler_new.fit_transform(X_train), Why?\n",
    "## because this is the training set, so it is okay to run fit_transform."
   ]
  },
  {
   "cell_type": "markdown",
   "id": "406ea833",
   "metadata": {},
   "source": [
    "<i>Imagine we build a model here.</i>"
   ]
  },
  {
   "cell_type": "code",
   "execution_count": 11,
   "id": "ccc04517",
   "metadata": {},
   "outputs": [],
   "source": [
    "## Transform the test set\n",
    "## DO NOT refit the scaler!\n",
    "X_test_scale = "
   ]
  },
  {
   "cell_type": "code",
   "execution_count": 12,
   "id": "43db821a",
   "metadata": {},
   "outputs": [
    {
     "data": {
      "text/plain": [
       "array([[ 0.61246894,  1.56838084,  0.43381426,  0.36432437],\n",
       "       [-0.2867345 ,  0.08436005,  0.48451448, -0.5869404 ],\n",
       "       [-1.68220459,  1.40586541, -1.50124388,  0.23520427],\n",
       "       [ 1.09587854,  0.08470574, -1.28999299, -0.49661516],\n",
       "       [ 0.90958846,  0.9141458 , -1.07029207, -1.8859758 ],\n",
       "       [ 0.50806649,  0.53895384,  0.64506515, -0.62261419],\n",
       "       [-1.04757642, -0.40909106,  1.38866828,  0.74814426],\n",
       "       [ 0.54031603,  0.77708632,  0.8225159 , -1.24942838],\n",
       "       [-0.71156966,  0.06794486,  0.49296451,  1.03711241],\n",
       "       [-0.22276656,  0.91986649,  1.61681924, -0.88373499],\n",
       "       [-0.2677913 , -0.87954903, -1.09564217,  1.66442569],\n",
       "       [ 1.04134888, -1.17642617, -0.30978887, -0.557363  ],\n",
       "       [-0.31296045,  1.64411483,  0.1803132 , -0.18942955],\n",
       "       [ 0.13766641,  0.96794768,  1.40556835,  1.04812381],\n",
       "       [ 0.36541166, -0.83318276, -0.25908865, -1.01042997],\n",
       "       [-0.50210526,  1.52391277, -1.40829349,  0.63605844],\n",
       "       [-1.13054744,  1.2129945 , -1.66179456, -0.06209919],\n",
       "       [ 0.02683458, -1.48794973,  0.54366473,  1.1962019 ],\n",
       "       [-0.62912671,  1.31434316, -1.01114182,  1.41604759],\n",
       "       [-0.06038547, -0.35806991, -1.59419427, -0.84869259],\n",
       "       [ 0.08584735,  0.9744878 , -1.27309292, -1.66022295],\n",
       "       [ 0.108249  ,  0.8592587 , -0.98579171, -0.07828128],\n",
       "       [ 0.05428308,  1.31558431,  1.49006871, -1.66493882],\n",
       "       [-0.00370223, -0.74754426,  0.13806302, -0.38446684],\n",
       "       [-0.08262349, -1.11587949,  0.22256337,  1.189751  ],\n",
       "       [ 0.74996517, -1.44078313, -1.01114182, -0.74474484],\n",
       "       [ 0.01958771, -1.47160958, -0.26753869, -1.25040796],\n",
       "       [-0.21608186,  1.25515503,  0.47606444,  1.32415172],\n",
       "       [ 0.47004397, -1.52310785,  0.59436494, -0.72780682],\n",
       "       [-0.23932075, -0.90949003, -0.03938773,  0.25175175],\n",
       "       [ 0.43175558, -0.03141123,  1.00841668,  0.97020611],\n",
       "       [-1.8599354 , -0.11936251, -1.34914324, -0.08023797],\n",
       "       [-0.47945332, -0.30301297, -0.71539057,  0.10442386],\n",
       "       [-0.77550878,  0.72270927, -0.46188951, -0.58711256],\n",
       "       [-0.35472431, -0.8323328 ,  0.61126501,  1.04792846],\n",
       "       [-1.00226793,  1.35242605, -0.12388808, -0.59536913],\n",
       "       [ 0.98452376, -1.50056183, -0.46188951,  0.06713103],\n",
       "       [-0.59779028,  0.96723571,  0.11271291, -0.94654134],\n",
       "       [-0.98334985,  0.4733105 ,  1.50696878,  0.71927641],\n",
       "       [-0.27282497,  1.25072027, -1.40829349,  0.98798808],\n",
       "       [ 0.04570314, -1.28109303,  0.12116295,  0.75683472],\n",
       "       [-0.87522791,  1.68222848, -1.3153431 ,  0.54393928],\n",
       "       [ 0.7434643 ,  1.61162466,  0.76336565,  2.09376822],\n",
       "       [ 1.64592136,  1.44695778,  1.22811761, -0.38649706],\n",
       "       [ 0.33435987,  1.00702084,  1.42246842, -1.93178951],\n",
       "       [-0.09803562,  0.64459749,  0.46761441,  0.55607809],\n",
       "       [-0.30010661, -0.34607979,  0.07891277, -2.19076513],\n",
       "       [-0.25099258, -0.24212831,  1.18586743, -0.14599865],\n",
       "       [-0.7287538 ,  0.52546783, -0.40273926, -2.30451185],\n",
       "       [ 0.61797744,  0.77084913, -0.46188951, -0.73430701],\n",
       "       [ 1.22209554,  0.03670714, -1.42519356, -0.5690069 ],\n",
       "       [ 1.10559223,  0.54536845, -0.90129136, -0.11913783],\n",
       "       [-0.32408249, -0.2456285 ,  0.86476608,  0.77151657],\n",
       "       [ 0.86252741,  1.29987072,  0.56901483, -2.07740772],\n",
       "       [ 0.95178732,  0.05799111, -0.62244018,  0.6584082 ],\n",
       "       [ 0.94321643, -0.39778523,  0.40001412, -1.08851491],\n",
       "       [-1.13905552,  0.60705148, -0.27598872,  0.49423006],\n",
       "       [-0.1170141 ,  1.63342032,  1.26191775, -1.4105705 ],\n",
       "       [ 0.70762228,  1.16642545, -0.57173997,  1.21209974],\n",
       "       [-1.37624797, -1.1049319 , -0.56328993, -0.15894691],\n",
       "       [-1.02998933, -0.34403342,  1.39711832, -0.58928913],\n",
       "       [-1.10826276, -0.20527605, -0.64779029,  2.12524779],\n",
       "       [-0.33100177, -1.61072842, -0.14923819, -0.43263259],\n",
       "       [ 1.20980329,  0.02017029, -0.16613826, -1.2626443 ],\n",
       "       [ 1.09944918, -0.6077434 , -0.86749121, -1.60948573],\n",
       "       [-0.2731955 ,  1.50642709,  1.49006871, -1.11532362],\n",
       "       [ 1.05399001,  1.18448812, -0.33513897,  1.62380631],\n",
       "       [ 0.66373159,  0.44302079, -0.09853798, -0.09522165],\n",
       "       [-0.72358219,  0.60403308, -1.59419427,  1.10127389],\n",
       "       [ 0.15321784, -1.04453457, -1.65334452,  0.27111745],\n",
       "       [-0.68873041, -1.03822411, -0.29288879,  1.67969305],\n",
       "       [-0.2551269 ,  1.06205617, -0.14078815,  0.29050276],\n",
       "       [ 0.5490954 , -0.0666136 ,  1.21121753, -0.37831181],\n",
       "       [ 1.28987591,  0.25396578, -0.80834096,  0.23886897],\n",
       "       [ 0.15697401, -1.32557585,  1.27036778, -0.7476379 ],\n",
       "       [ 0.86897521, -1.61806431,  1.49006871, -1.02983396],\n",
       "       [ 0.93483038, -0.68573183,  0.52676465, -0.57348367],\n",
       "       [-2.59707941, -0.12203432, -0.85904118, -1.48768625],\n",
       "       [ 0.96169014,  0.90942303, -1.36604331,  2.98112128],\n",
       "       [ 0.06111557, -0.67336136,  0.9408164 ,  0.62583421],\n",
       "       [-0.62596416, -0.65565481,  0.05356266,  0.16577569],\n",
       "       [-1.90740252, -0.32361365,  1.00841668,  0.15878678],\n",
       "       [ 0.75161016, -1.6484695 , -1.00269178, -1.68103209],\n",
       "       [-0.16955002,  1.12662687,  0.73801554, -0.9365759 ],\n",
       "       [-0.08198912, -0.3803736 , -1.12944232,  0.69119473],\n",
       "       [ 0.61311525, -0.09629391, -0.61399015, -1.03584811],\n",
       "       [-0.77964228, -0.49429373, -1.23929278, -0.18203635],\n",
       "       [-0.68309948,  0.69651101, -0.92664146,  0.60125383],\n",
       "       [-1.7990238 , -0.39932876, -0.45343947, -1.69438871],\n",
       "       [ 0.01319314,  1.30516786, -1.46744374, -0.59968385],\n",
       "       [-0.90521452,  0.33934073,  1.39711832,  0.29273713],\n",
       "       [-2.66592537,  0.05841856, -1.00269178,  0.21943487],\n",
       "       [ 1.97178222,  0.89462224, -0.90129136,  1.03222343],\n",
       "       [ 0.98978757, -0.99417917,  0.78026572,  0.42951242],\n",
       "       [-1.1587011 , -0.6776101 ,  0.5605648 , -2.30487334],\n",
       "       [ 1.5072887 , -0.75419295, -0.79989093,  1.67833471],\n",
       "       [-1.04436035,  0.06171733,  0.93236636,  1.90789412],\n",
       "       [-1.67253864,  0.61578868, -0.22528851,  0.01172384],\n",
       "       [-0.69100459,  0.21557327, -1.61954438,  0.72763765],\n",
       "       [-0.34804357,  0.39157182, -0.28443876, -1.58340667],\n",
       "       [-0.29927932,  1.48857966, -1.12944232, -0.86940105],\n",
       "       [ 0.7326073 , -0.66144228,  1.65906942, -2.01077901],\n",
       "       [ 0.05421489,  0.31201376, -1.66179456, -1.63218811],\n",
       "       [-0.33434313, -1.63972713,  0.99996665, -1.22263638],\n",
       "       [-0.70628888,  1.37859544, -0.44498944,  0.95228634],\n",
       "       [ 0.14546494, -0.213324  , -0.39428922, -0.39122927],\n",
       "       [ 0.32356053, -0.28135807, -0.38583919, -0.63560318],\n",
       "       [-0.36720825, -0.71738574, -0.10698801, -1.60064395],\n",
       "       [-0.42426861, -0.95039142,  0.77181569,  1.05100764],\n",
       "       [ 1.42435051, -1.1880587 ,  0.21411334, -0.85047126],\n",
       "       [-0.72423399, -0.5223127 , -0.60554011,  1.72240213],\n",
       "       [-1.63311028,  0.84818228,  1.12671718, -1.05373119],\n",
       "       [-1.20536231,  0.44852049, -0.33513897, -0.58380322],\n",
       "       [ 0.78988543, -0.97500945, -0.25908865,  0.06611252],\n",
       "       [-0.80645198, -1.68849507, -1.48434381,  0.27312925],\n",
       "       [-0.01509289,  1.54948311,  0.5605648 , -0.29088953],\n",
       "       [ 0.66776547,  0.40879892,  1.07601697, -0.06860303],\n",
       "       [-0.50987038, -1.18794016,  0.42536423,  0.58868441],\n",
       "       [-0.12165479, -1.10064975, -1.22239271, -0.60059548],\n",
       "       [-2.39612732,  1.63077303, -1.21394267, -1.58545479],\n",
       "       [-1.76248146, -1.59341808, -1.18859256, -0.77632662],\n",
       "       [-1.28393874, -0.06058045,  1.65906942,  0.69253933],\n",
       "       [ 0.53942559, -1.45340344,  0.99996665,  1.18758682],\n",
       "       [ 1.11030558,  0.37833384, -0.63934025,  0.01057397],\n",
       "       [-0.13604654,  0.63062871,  0.45916437,  1.22846679],\n",
       "       [ 0.06318923, -0.60939769,  1.43091846,  0.36760374],\n",
       "       [-0.67343309,  1.17862749,  1.43091846, -1.45105668],\n",
       "       [ 0.69354795,  1.29486207, -0.816791  , -0.12353825],\n",
       "       [-1.24650453,  0.45142141,  1.69286956, -1.00034626],\n",
       "       [-0.69288962,  0.35085646,  0.17186316,  1.55264328],\n",
       "       [ 0.11099644, -1.16138916, -0.47878958, -0.52742447],\n",
       "       [-0.77511315, -0.38011954, -0.6984905 ,  1.02051618],\n",
       "       [-1.20310972, -0.00716393, -0.91819143,  0.68304024],\n",
       "       [-0.74269902,  0.65631824, -1.64489448,  0.06780849],\n",
       "       [ 1.33211813,  1.31216716, -1.3153431 , -0.40059046],\n",
       "       [ 1.20348313,  0.6405741 , -0.52948979, -1.28929922],\n",
       "       [ 0.66033801, -0.37832248,  0.29861369,  1.73723066],\n",
       "       [-1.11605438,  0.72763339, -0.48723961, -0.72010882],\n",
       "       [ 1.23601028,  0.39341215, -0.15768823,  0.59156593],\n",
       "       [-1.7009895 , -0.92717622,  0.40001412, -0.38802064],\n",
       "       [ 1.88719288,  1.279478  , -0.25063862,  0.03120802],\n",
       "       [-0.78547638, -1.14509641, -1.24774281, -1.07500166],\n",
       "       [-2.24197751, -1.30583571, -1.63644445,  0.64214163],\n",
       "       [ 1.19284061, -1.1495336 , -1.25619285,  1.19038692],\n",
       "       [ 1.11179529, -1.31522992, -0.52103976,  1.87515324],\n",
       "       [-0.3490563 ,  0.75958342,  0.45916437, -0.05816992],\n",
       "       [ 1.10893035, -1.01826575,  0.75491561, -0.11611062],\n",
       "       [-1.12033256,  1.27123716,  0.01976252, -0.30841983],\n",
       "       [ 0.61059891, -0.46845211, -1.28999299, -1.57172089],\n",
       "       [-0.4324629 ,  1.58650126, -1.48434381,  1.92795975],\n",
       "       [-0.04427628,  0.85553224, -0.65624032, -0.16774214],\n",
       "       [ 0.81550808, -0.18907597, -1.25619285,  0.07789399],\n",
       "       [-0.47269538, -0.1244986 , -1.29844303,  0.43599522],\n",
       "       [-0.01975667, -1.34036022, -0.23373855,  1.09621638],\n",
       "       [ 2.08303749, -1.39635143, -0.09008794,  0.18894877],\n",
       "       [-0.5088996 ,  0.64759931,  1.33796807, -0.26044583],\n",
       "       [-2.5106226 ,  0.08380697, -1.34914324, -0.0656841 ],\n",
       "       [ 0.69444845, -0.8589957 , -0.04783776,  0.94577397],\n",
       "       [-1.25644195,  1.33202403,  0.72956551, -0.63761012],\n",
       "       [ 0.42670403,  1.01566426, -0.46188951,  1.23932567],\n",
       "       [-0.33392345, -1.53904155, -1.4336436 ,  0.18461177],\n",
       "       [ 0.837125  ,  1.06965972, -1.34914324, -0.58866037],\n",
       "       [ 0.15658894, -1.14442216,  1.52386885,  0.79213588],\n",
       "       [ 1.09585384, -0.00783298,  0.3239638 , -2.44596995],\n",
       "       [-1.61737387, -0.64784337, -0.816791  ,  0.08254404],\n",
       "       [ 0.69502898, -0.32214243,  1.3464181 , -0.28279568],\n",
       "       [ 0.05910424,  0.30148364,  1.36331817,  0.96332566],\n",
       "       [ 0.33731051, -0.81959487,  0.07046273, -0.59993866],\n",
       "       [-0.16759196,  0.06112158,  0.61971505,  0.77356098],\n",
       "       [ 0.42209516,  0.44415293,  0.69576537,  1.60410186],\n",
       "       [-0.71714698, -1.57290064,  0.38311405,  1.43592424],\n",
       "       [ 0.41123511, -0.54838464,  1.15206729,  1.17512983],\n",
       "       [ 0.07606809, -0.63898076,  1.38021825, -0.20741018],\n",
       "       [ 0.48250861, -0.48875237,  0.43381426,  0.49755156],\n",
       "       [ 0.94069425,  0.85556375,  0.51831462,  0.16896225],\n",
       "       [-0.16571188, -0.6181735 ,  0.47606444, -0.30411144],\n",
       "       [-0.62880599,  0.24094063, -0.35203904,  0.12735583],\n",
       "       [-2.09425611, -1.24986853, -0.1745883 ,  2.06379878],\n",
       "       [ 1.64660761, -0.23065502, -0.54638986, -0.04851769],\n",
       "       [-1.04209476,  0.19435087, -0.24218858, -1.29572262],\n",
       "       [ 0.27284285,  1.20540316,  1.64216935,  0.85462634],\n",
       "       [ 0.70757548, -0.7695714 ,  1.18586743, -0.54734681],\n",
       "       [-0.68632199, -0.88071003,  0.1803132 , -0.65568577],\n",
       "       [ 0.61512307,  0.58328682,  0.30706373,  0.22981332],\n",
       "       [-1.59991031, -1.17902289,  1.35486814, -0.77181524],\n",
       "       [-0.80193503,  1.4895042 ,  0.75491561, -0.64526793],\n",
       "       [-0.60696057, -0.0196953 , -1.24774281, -1.07960702],\n",
       "       [-0.97693123,  0.0186548 , -0.41118929,  1.76219612],\n",
       "       [-0.16427423, -1.26877847,  1.55766899,  0.12088667],\n",
       "       [-0.24279797,  0.71723115,  0.36621398, -0.24088479],\n",
       "       [-0.2016699 ,  0.63883292, -0.39428922,  0.30114006],\n",
       "       [ 0.4762594 , -1.30122847, -0.51258972, -1.76410339],\n",
       "       [ 0.30671586, -0.48135734,  1.36331817,  0.35571297],\n",
       "       [-1.07448723, -0.66026382,  0.78026572,  1.98637345],\n",
       "       [ 0.79144785, -0.56474551, -1.16324246, -0.11839617],\n",
       "       [-2.05926954,  1.42927666,  1.3464181 ,  1.18987064],\n",
       "       [ 0.66419396,  0.86526566,  1.09291704,  1.57694631],\n",
       "       [ 0.13205298, -1.30021676,  0.22256337,  1.06552785],\n",
       "       [-0.92991357,  0.90394394, -0.86749121,  2.30768219],\n",
       "       [-0.75829769, -0.1003651 ,  0.41691419,  0.15678985]])"
      ]
     },
     "execution_count": 12,
     "metadata": {},
     "output_type": "execute_result"
    }
   ],
   "source": [
    "X_test_scale"
   ]
  },
  {
   "cell_type": "markdown",
   "id": "edeb112b",
   "metadata": {},
   "source": [
    "<i>Imagine we test model performance on the test set here.</i>"
   ]
  },
  {
   "cell_type": "markdown",
   "id": "c0fc9250",
   "metadata": {},
   "source": [
    "## Other scaler objects\n",
    "\n",
    "`sklearn` has more scalers than just `StandardScaler`, which you can find at this link, <a href=\"https://scikit-learn.org/stable/modules/preprocessing.html\">https://scikit-learn.org/stable/modules/preprocessing.html</a>. Moreover, some `sklearn` models have their own input arguments that will handle scaling for you when set `= True`."
   ]
  },
  {
   "cell_type": "markdown",
   "id": "a86570f4",
   "metadata": {},
   "source": [
    "--------------------------\n",
    "\n",
    "This notebook was written for the Erd&#337;s Institute C&#337;de Data Science Boot Camp by Matthew Osborne, Ph. D., 2023.\n",
    "\n",
    "Any potential redistributors must seek and receive permission from Matthew Tyler Osborne, Ph.D. prior to redistribution. Redistribution of the material contained in this repository is conditional on acknowledgement of Matthew Tyler Osborne, Ph.D.'s original authorship and sponsorship of the Erdős Institute as subject to the license (see License.md)"
   ]
  }
 ],
 "metadata": {
  "kernelspec": {
   "display_name": "Python 3 (ipykernel)",
   "language": "python",
   "name": "python3"
  },
  "language_info": {
   "codemirror_mode": {
    "name": "ipython",
    "version": 3
   },
   "file_extension": ".py",
   "mimetype": "text/x-python",
   "name": "python",
   "nbconvert_exporter": "python",
   "pygments_lexer": "ipython3",
   "version": "3.10.9"
  }
 },
 "nbformat": 4,
 "nbformat_minor": 5
}
