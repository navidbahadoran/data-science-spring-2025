{
 "cells": [
  {
   "cell_type": "markdown",
   "id": "e73ab097",
   "metadata": {},
   "source": [
    "# Problem Session 3\n",
    "\n",
    "## More Regression\n",
    "\n",
    "The problems in this notebook will cover the content covered in our Regression lectures including:\n",
    "- Multiple Linear Regression\n",
    "- kNN Regression\n",
    "- Categorical Variables and Interactions\n",
    "- Pipelines"
   ]
  },
  {
   "cell_type": "code",
   "execution_count": 1,
   "id": "c455cc0b",
   "metadata": {},
   "outputs": [],
   "source": [
    "## We first load in packages we will need\n",
    "import pandas as pd\n",
    "import numpy as np\n",
    "import matplotlib.pyplot as plt\n",
    "import seaborn as sns\n",
    "sns.set_style(\"whitegrid\")"
   ]
  },
  {
   "cell_type": "markdown",
   "id": "ff585fa7",
   "metadata": {},
   "source": [
    "#### 1. Preparing the data\n",
    "\n",
    "In this notebook you will continue to model the median selling price we started in the last problem session. First we have to load the data and repeat some of the cleaning we did in `Problem Session 2`.\n",
    "\n",
    "##### a."
   ]
  },
  {
   "cell_type": "code",
   "execution_count": 2,
   "id": "279b0e98",
   "metadata": {},
   "outputs": [
    {
     "name": "stdout",
     "output_type": "stream",
     "text": [
      "<class 'pandas.core.frame.DataFrame'>\n",
      "Index: 20433 entries, 0 to 20639\n",
      "Data columns (total 10 columns):\n",
      " #   Column              Non-Null Count  Dtype  \n",
      "---  ------              --------------  -----  \n",
      " 0   longitude           20433 non-null  float64\n",
      " 1   latitude            20433 non-null  float64\n",
      " 2   housing_median_age  20433 non-null  float64\n",
      " 3   total_rooms         20433 non-null  float64\n",
      " 4   total_bedrooms      20433 non-null  float64\n",
      " 5   population          20433 non-null  float64\n",
      " 6   households          20433 non-null  float64\n",
      " 7   median_income       20433 non-null  float64\n",
      " 8   median_house_value  20433 non-null  float64\n",
      " 9   ocean_proximity     20433 non-null  object \n",
      "dtypes: float64(9), object(1)\n",
      "memory usage: 1.7+ MB\n"
     ]
    }
   ],
   "source": [
    "# Try to recall how to load the data without peaking.  It is in the data folder and is called housing.csv.\n",
    "housing = pd.read_csv('../../data/housing.csv')\n",
    "\n",
    "# drop the rows with null values\n",
    "housing = housing.dropna()\n",
    "\n",
    "def clean_column(text:str) -> float:\n",
    "    text = text[1:] # removes leading $\n",
    "    return float(text.replace(',','')) # removes comma and converts to float\n",
    "\n",
    "# apply clean_column to the median house value.\n",
    "housing.median_house_value = housing.median_house_value.apply(clean_column)\n",
    "\n",
    "housing.info()\n",
    "\n",
    "assert(housing.shape[0] == 20433)\n",
    "assert(housing.median_house_value.dtype == float)"
   ]
  },
  {
   "cell_type": "markdown",
   "id": "be65df52",
   "metadata": {},
   "source": [
    "##### b.\n",
    "\n",
    "Make the train test split using `sklearn`'s `train_test_split`.  Use an 80/20 split. Use a random state of 216."
   ]
  },
  {
   "cell_type": "markdown",
   "id": "3ca3db8b",
   "metadata": {},
   "source": [
    "##### Sample Solution"
   ]
  },
  {
   "cell_type": "code",
   "execution_count": 3,
   "id": "298bcd92",
   "metadata": {},
   "outputs": [],
   "source": [
    "from sklearn.model_selection import train_test_split"
   ]
  },
  {
   "cell_type": "code",
   "execution_count": 4,
   "id": "44232cee",
   "metadata": {},
   "outputs": [],
   "source": [
    "housing_train, housing_test = train_test_split(housing.copy(),\n",
    "                                            test_size=.2,\n",
    "                                            random_state=216,\n",
    "                                            shuffle=True)\n",
    "\n",
    "assert(housing_train.shape[0] == int(housing.shape[0]*0.8))"
   ]
  },
  {
   "cell_type": "markdown",
   "id": "db518361",
   "metadata": {},
   "source": [
    "Remember that the data was truncated at an upper limit of $\\$500000$ for the target variable."
   ]
  },
  {
   "cell_type": "code",
   "execution_count": 5,
   "id": "0c08ad7d",
   "metadata": {},
   "outputs": [],
   "source": [
    "# Set aside all of the rows for which the median house value is 500000\n",
    "housing_truncated = housing[housing.median_house_value >= 500000]\n",
    "housing_train_truncated = housing_train[housing_train.median_house_value >= 500000]\n",
    "housing_test_truncated = housing_test[housing_test.median_house_value >= 500000]\n",
    "\n",
    "# Redefine these to only include the non-truncated examples\n",
    "housing = housing[housing.median_house_value < 500000]\n",
    "housing_train = housing_train[housing_train.median_house_value < 500000]\n",
    "housing_test= housing_test[housing_test.median_house_value < 500000]"
   ]
  },
  {
   "cell_type": "markdown",
   "id": "6e142f89",
   "metadata": {},
   "source": [
    "##### c.\n",
    "\n",
    "If you need to, take a moment to refresh yourself on these data."
   ]
  },
  {
   "cell_type": "markdown",
   "id": "b11896c0",
   "metadata": {},
   "source": [
    "##### Sample Solution"
   ]
  },
  {
   "cell_type": "code",
   "execution_count": 6,
   "id": "29eb9ddc",
   "metadata": {},
   "outputs": [
    {
     "data": {
      "text/html": [
       "<div>\n",
       "<style scoped>\n",
       "    .dataframe tbody tr th:only-of-type {\n",
       "        vertical-align: middle;\n",
       "    }\n",
       "\n",
       "    .dataframe tbody tr th {\n",
       "        vertical-align: top;\n",
       "    }\n",
       "\n",
       "    .dataframe thead th {\n",
       "        text-align: right;\n",
       "    }\n",
       "</style>\n",
       "<table border=\"1\" class=\"dataframe\">\n",
       "  <thead>\n",
       "    <tr style=\"text-align: right;\">\n",
       "      <th></th>\n",
       "      <th>longitude</th>\n",
       "      <th>latitude</th>\n",
       "      <th>housing_median_age</th>\n",
       "      <th>total_rooms</th>\n",
       "      <th>total_bedrooms</th>\n",
       "      <th>population</th>\n",
       "      <th>households</th>\n",
       "      <th>median_income</th>\n",
       "      <th>median_house_value</th>\n",
       "      <th>ocean_proximity</th>\n",
       "    </tr>\n",
       "  </thead>\n",
       "  <tbody>\n",
       "    <tr>\n",
       "      <th>5112</th>\n",
       "      <td>-118.29</td>\n",
       "      <td>33.97</td>\n",
       "      <td>48.0</td>\n",
       "      <td>3139.0</td>\n",
       "      <td>587.0</td>\n",
       "      <td>1319.0</td>\n",
       "      <td>506.0</td>\n",
       "      <td>35208.0</td>\n",
       "      <td>134200.0</td>\n",
       "      <td>&lt;1H OCEAN</td>\n",
       "    </tr>\n",
       "    <tr>\n",
       "      <th>4761</th>\n",
       "      <td>-118.35</td>\n",
       "      <td>34.04</td>\n",
       "      <td>49.0</td>\n",
       "      <td>1104.0</td>\n",
       "      <td>266.0</td>\n",
       "      <td>668.0</td>\n",
       "      <td>297.0</td>\n",
       "      <td>30856.0</td>\n",
       "      <td>151600.0</td>\n",
       "      <td>&lt;1H OCEAN</td>\n",
       "    </tr>\n",
       "  </tbody>\n",
       "</table>\n",
       "</div>"
      ],
      "text/plain": [
       "      longitude  latitude  housing_median_age  total_rooms  total_bedrooms  \\\n",
       "5112    -118.29     33.97                48.0       3139.0           587.0   \n",
       "4761    -118.35     34.04                49.0       1104.0           266.0   \n",
       "\n",
       "      population  households  median_income  median_house_value  \\\n",
       "5112      1319.0       506.0        35208.0            134200.0   \n",
       "4761       668.0       297.0        30856.0            151600.0   \n",
       "\n",
       "     ocean_proximity  \n",
       "5112       <1H OCEAN  \n",
       "4761       <1H OCEAN  "
      ]
     },
     "execution_count": 6,
     "metadata": {},
     "output_type": "execute_result"
    }
   ],
   "source": [
    "housing_train.head(2)"
   ]
  },
  {
   "cell_type": "markdown",
   "id": "1d47521a",
   "metadata": {},
   "source": [
    "#### 2. More EDA\n",
    "\n",
    "In `Problem Session 3` you examined potential linear relationships with `median_house_value` and:\n",
    "- `median_income`,\n",
    "- `households`\n",
    "\n",
    "In this notebook we will do a little feature engineering and also use the `ocean_proximity` categorical variable."
   ]
  },
  {
   "cell_type": "markdown",
   "id": "f1a3d811",
   "metadata": {},
   "source": [
    "##### a. \n",
    "\n",
    "One way to examine if a cateorical variable has an impact on an outcome variable is to compare the mean or median of the outcome variable among the different categories.\n",
    "\n",
    "Use `pandas` `groupby`, <a href=\"https://pandas.pydata.org/docs/reference/api/pandas.DataFrame.groupby.html\">https://pandas.pydata.org/docs/reference/api/pandas.DataFrame.groupby.html</a>, to examine the mean  `median_house_value` by the value of `ocean_proximity`.  Use the `.describe()` method."
   ]
  },
  {
   "cell_type": "markdown",
   "id": "25d19868",
   "metadata": {},
   "source": [
    "##### Sample Solution"
   ]
  },
  {
   "cell_type": "code",
   "execution_count": 7,
   "id": "035e1002",
   "metadata": {},
   "outputs": [
    {
     "name": "stdout",
     "output_type": "stream",
     "text": [
      "Mean by 'ocean_proximity'\n",
      "=====================\n",
      "                  count           mean            std       min       25%  \\\n",
      "ocean_proximity                                                             \n",
      "<1H OCEAN        6791.0  223837.785304   85998.216788   17500.0  162500.0   \n",
      "INLAND           5195.0  123541.885852   66435.334926   14999.0   77100.0   \n",
      "ISLAND              3.0  388233.333333   78424.252201  300000.0  357350.0   \n",
      "NEAR BAY         1655.0  234621.752266  101970.227348   32500.0  156300.0   \n",
      "NEAR OCEAN       1920.0  227732.135417  101525.583217   22500.0  143800.0   \n",
      "\n",
      "                      50%       75%       max  \n",
      "ocean_proximity                                \n",
      "<1H OCEAN        208700.0  271400.0  499100.0  \n",
      "INLAND           108300.0  148700.0  485400.0  \n",
      "ISLAND           414700.0  432350.0  450000.0  \n",
      "NEAR BAY         218400.0  312050.0  499000.0  \n",
      "NEAR OCEAN       219400.0  294250.0  496400.0  \n"
     ]
    }
   ],
   "source": [
    "print(\"Mean by 'ocean_proximity'\")\n",
    "print(\"=====================\")\n",
    "print(housing_train.groupby('ocean_proximity').median_house_value.describe())"
   ]
  },
  {
   "cell_type": "markdown",
   "id": "ef6702cd",
   "metadata": {},
   "source": [
    "##### b.\n",
    "\n",
    "Another way to investigate the potential impact of categorical variables is to make plots examining the distribution of the outcome variable for each different category. \n",
    "\n",
    "Two common plots that are considered are box and whisker plots and violin plots. These can be made quickly using `seaborn`'s `boxplot`, <a href=\"https://seaborn.pydata.org/generated/seaborn.boxplot.html\">https://seaborn.pydata.org/generated/seaborn.boxplot.html/</a>, and `violinplot`, <a href=\"https://seaborn.pydata.org/generated/seaborn.violinplot.html\">https://seaborn.pydata.org/generated/seaborn.violinplot.html</a> functions.\n",
    "\n",
    "Below we will look at the distribution of `median_house_income` by `ocean_proximity` using both."
   ]
  },
  {
   "cell_type": "code",
   "execution_count": 8,
   "id": "c1fdc1ab",
   "metadata": {},
   "outputs": [
    {
     "data": {
      "image/png": "[encoded data removed]",
      "text/plain": [
       "<Figure size 600x500 with 1 Axes>"
      ]
     },
     "metadata": {},
     "output_type": "display_data"
    }
   ],
   "source": [
    "## Boxplot for ocean_proximity\n",
    "plt.figure(figsize=(6,5))\n",
    "\n",
    "sns.boxplot(data = housing_train,\n",
    "               y = 'median_house_value',\n",
    "               x = 'ocean_proximity')\n",
    "\n",
    "plt.yticks(fontsize=10)\n",
    "plt.xticks(fontsize=10)\n",
    "\n",
    "plt.ylabel(\"Median House Value\", fontsize=12)\n",
    "plt.xlabel(\"Ocean Proximity\", fontsize=12)\n",
    "\n",
    "plt.show()"
   ]
  },
  {
   "cell_type": "code",
   "execution_count": 9,
   "id": "6c82597e",
   "metadata": {},
   "outputs": [
    {
     "data": {
      "image/png": "[encoded data removed]",
      "text/plain": [
       "<Figure size 600x500 with 1 Axes>"
      ]
     },
     "metadata": {},
     "output_type": "display_data"
    }
   ],
   "source": [
    "## violinplot for ocean_proximity\n",
    "plt.figure(figsize=(6,5))\n",
    "\n",
    "sns.violinplot(data = housing_train,\n",
    "               y = 'median_house_value',\n",
    "               x = 'ocean_proximity')\n",
    "\n",
    "plt.yticks(fontsize=10)\n",
    "plt.xticks(fontsize=10)\n",
    "\n",
    "plt.ylabel(\"Median House Value\", fontsize=12)\n",
    "plt.xlabel(\"Ocean Proximity\", fontsize=12)\n",
    "\n",
    "plt.show()"
   ]
  },
  {
   "cell_type": "markdown",
   "id": "39c042de",
   "metadata": {},
   "source": [
    "##### c.\n",
    "\n",
    "Write down any thoughts you have about the `ocean_proximity` variable here.  Will you use all levels?  Will you combine some levels?"
   ]
  },
  {
   "cell_type": "markdown",
   "id": "7d0e8a06",
   "metadata": {},
   "source": [
    "You should notice that \n",
    "\n",
    "- `ISLAND` is an incredibly rare level, so we probably shouldn't include it.\n",
    "- `<1H OCEAN`, `NEAR BAY`, and `NEAR OCEAN` seem to have very similar distributions.\n",
    "- `INLAND` has a notably lower values\n",
    "\n",
    "For these reasons, I would will dichotomize this variable.  In other words I would only keep the dummy variable for `INLAND` in my model."
   ]
  },
  {
   "cell_type": "markdown",
   "id": "e5f766f2",
   "metadata": {},
   "source": [
    "##### d.\n",
    "\n",
    "From your investigations above you likely noticed that `INLAND` seems like a relevant predictor.\n",
    "\n",
    "Create a new column in the data set called `INLAND` that is `1` if the `ocean_proximity` is `INLAND` and `0` otherwise."
   ]
  },
  {
   "cell_type": "markdown",
   "id": "7ec34fc7",
   "metadata": {},
   "source": [
    "##### Sample Solution"
   ]
  },
  {
   "cell_type": "code",
   "execution_count": 10,
   "id": "34327717",
   "metadata": {},
   "outputs": [],
   "source": [
    "# Solution 1\n",
    "# Note:  pd.get_dummies has boolean values.  That will work, but I prefer to coerce them to floats by multiplying by 1.0\n",
    "housing_train['INLAND'] = pd.get_dummies(housing_train.ocean_proximity)['INLAND'] * 1.0\n",
    "\n",
    "# Solution 2\n",
    "# housing_train['INLAND'] = 0.0\n",
    "# housing_train.loc[housing_train.ocean_proximity == 'INLAND', 'INLAND'] = 1.0"
   ]
  },
  {
   "cell_type": "code",
   "execution_count": 11,
   "id": "140bc93d",
   "metadata": {},
   "outputs": [
    {
     "data": {
      "text/html": [
       "<div>\n",
       "<style scoped>\n",
       "    .dataframe tbody tr th:only-of-type {\n",
       "        vertical-align: middle;\n",
       "    }\n",
       "\n",
       "    .dataframe tbody tr th {\n",
       "        vertical-align: top;\n",
       "    }\n",
       "\n",
       "    .dataframe thead th {\n",
       "        text-align: right;\n",
       "    }\n",
       "</style>\n",
       "<table border=\"1\" class=\"dataframe\">\n",
       "  <thead>\n",
       "    <tr style=\"text-align: right;\">\n",
       "      <th></th>\n",
       "      <th>longitude</th>\n",
       "      <th>latitude</th>\n",
       "      <th>housing_median_age</th>\n",
       "      <th>total_rooms</th>\n",
       "      <th>total_bedrooms</th>\n",
       "      <th>population</th>\n",
       "      <th>households</th>\n",
       "      <th>median_income</th>\n",
       "      <th>median_house_value</th>\n",
       "      <th>ocean_proximity</th>\n",
       "      <th>INLAND</th>\n",
       "    </tr>\n",
       "  </thead>\n",
       "  <tbody>\n",
       "    <tr>\n",
       "      <th>2171</th>\n",
       "      <td>-119.87</td>\n",
       "      <td>36.78</td>\n",
       "      <td>4.0</td>\n",
       "      <td>6102.0</td>\n",
       "      <td>1114.0</td>\n",
       "      <td>3406.0</td>\n",
       "      <td>1115.0</td>\n",
       "      <td>34213.0</td>\n",
       "      <td>84500.0</td>\n",
       "      <td>INLAND</td>\n",
       "      <td>1.0</td>\n",
       "    </tr>\n",
       "    <tr>\n",
       "      <th>8282</th>\n",
       "      <td>-118.14</td>\n",
       "      <td>33.78</td>\n",
       "      <td>42.0</td>\n",
       "      <td>1898.0</td>\n",
       "      <td>488.0</td>\n",
       "      <td>940.0</td>\n",
       "      <td>483.0</td>\n",
       "      <td>34107.0</td>\n",
       "      <td>233300.0</td>\n",
       "      <td>NEAR OCEAN</td>\n",
       "      <td>0.0</td>\n",
       "    </tr>\n",
       "    <tr>\n",
       "      <th>8353</th>\n",
       "      <td>-118.32</td>\n",
       "      <td>33.95</td>\n",
       "      <td>44.0</td>\n",
       "      <td>2023.0</td>\n",
       "      <td>325.0</td>\n",
       "      <td>992.0</td>\n",
       "      <td>326.0</td>\n",
       "      <td>46667.0</td>\n",
       "      <td>175600.0</td>\n",
       "      <td>&lt;1H OCEAN</td>\n",
       "      <td>0.0</td>\n",
       "    </tr>\n",
       "    <tr>\n",
       "      <th>257</th>\n",
       "      <td>-122.19</td>\n",
       "      <td>37.77</td>\n",
       "      <td>42.0</td>\n",
       "      <td>932.0</td>\n",
       "      <td>254.0</td>\n",
       "      <td>900.0</td>\n",
       "      <td>263.0</td>\n",
       "      <td>18039.0</td>\n",
       "      <td>92300.0</td>\n",
       "      <td>NEAR BAY</td>\n",
       "      <td>0.0</td>\n",
       "    </tr>\n",
       "    <tr>\n",
       "      <th>6143</th>\n",
       "      <td>-117.98</td>\n",
       "      <td>34.10</td>\n",
       "      <td>22.0</td>\n",
       "      <td>5661.0</td>\n",
       "      <td>1209.0</td>\n",
       "      <td>5389.0</td>\n",
       "      <td>1178.0</td>\n",
       "      <td>37727.0</td>\n",
       "      <td>159700.0</td>\n",
       "      <td>INLAND</td>\n",
       "      <td>1.0</td>\n",
       "    </tr>\n",
       "    <tr>\n",
       "      <th>17648</th>\n",
       "      <td>-121.89</td>\n",
       "      <td>37.25</td>\n",
       "      <td>23.0</td>\n",
       "      <td>2705.0</td>\n",
       "      <td>449.0</td>\n",
       "      <td>1180.0</td>\n",
       "      <td>442.0</td>\n",
       "      <td>60791.0</td>\n",
       "      <td>316500.0</td>\n",
       "      <td>&lt;1H OCEAN</td>\n",
       "      <td>0.0</td>\n",
       "    </tr>\n",
       "    <tr>\n",
       "      <th>6617</th>\n",
       "      <td>-118.11</td>\n",
       "      <td>34.17</td>\n",
       "      <td>46.0</td>\n",
       "      <td>2837.0</td>\n",
       "      <td>592.0</td>\n",
       "      <td>1453.0</td>\n",
       "      <td>549.0</td>\n",
       "      <td>31115.0</td>\n",
       "      <td>234600.0</td>\n",
       "      <td>INLAND</td>\n",
       "      <td>1.0</td>\n",
       "    </tr>\n",
       "    <tr>\n",
       "      <th>6419</th>\n",
       "      <td>-118.01</td>\n",
       "      <td>34.15</td>\n",
       "      <td>32.0</td>\n",
       "      <td>6597.0</td>\n",
       "      <td>1579.0</td>\n",
       "      <td>3689.0</td>\n",
       "      <td>1459.0</td>\n",
       "      <td>32377.0</td>\n",
       "      <td>184100.0</td>\n",
       "      <td>INLAND</td>\n",
       "      <td>1.0</td>\n",
       "    </tr>\n",
       "    <tr>\n",
       "      <th>17505</th>\n",
       "      <td>-121.90</td>\n",
       "      <td>37.36</td>\n",
       "      <td>47.0</td>\n",
       "      <td>1007.0</td>\n",
       "      <td>245.0</td>\n",
       "      <td>581.0</td>\n",
       "      <td>240.0</td>\n",
       "      <td>29545.0</td>\n",
       "      <td>237500.0</td>\n",
       "      <td>&lt;1H OCEAN</td>\n",
       "      <td>0.0</td>\n",
       "    </tr>\n",
       "    <tr>\n",
       "      <th>16512</th>\n",
       "      <td>-121.22</td>\n",
       "      <td>37.72</td>\n",
       "      <td>34.0</td>\n",
       "      <td>2123.0</td>\n",
       "      <td>387.0</td>\n",
       "      <td>1310.0</td>\n",
       "      <td>368.0</td>\n",
       "      <td>26368.0</td>\n",
       "      <td>165600.0</td>\n",
       "      <td>INLAND</td>\n",
       "      <td>1.0</td>\n",
       "    </tr>\n",
       "  </tbody>\n",
       "</table>\n",
       "</div>"
      ],
      "text/plain": [
       "       longitude  latitude  housing_median_age  total_rooms  total_bedrooms  \\\n",
       "2171     -119.87     36.78                 4.0       6102.0          1114.0   \n",
       "8282     -118.14     33.78                42.0       1898.0           488.0   \n",
       "8353     -118.32     33.95                44.0       2023.0           325.0   \n",
       "257      -122.19     37.77                42.0        932.0           254.0   \n",
       "6143     -117.98     34.10                22.0       5661.0          1209.0   \n",
       "17648    -121.89     37.25                23.0       2705.0           449.0   \n",
       "6617     -118.11     34.17                46.0       2837.0           592.0   \n",
       "6419     -118.01     34.15                32.0       6597.0          1579.0   \n",
       "17505    -121.90     37.36                47.0       1007.0           245.0   \n",
       "16512    -121.22     37.72                34.0       2123.0           387.0   \n",
       "\n",
       "       population  households  median_income  median_house_value  \\\n",
       "2171       3406.0      1115.0        34213.0             84500.0   \n",
       "8282        940.0       483.0        34107.0            233300.0   \n",
       "8353        992.0       326.0        46667.0            175600.0   \n",
       "257         900.0       263.0        18039.0             92300.0   \n",
       "6143       5389.0      1178.0        37727.0            159700.0   \n",
       "17648      1180.0       442.0        60791.0            316500.0   \n",
       "6617       1453.0       549.0        31115.0            234600.0   \n",
       "6419       3689.0      1459.0        32377.0            184100.0   \n",
       "17505       581.0       240.0        29545.0            237500.0   \n",
       "16512      1310.0       368.0        26368.0            165600.0   \n",
       "\n",
       "      ocean_proximity  INLAND  \n",
       "2171           INLAND     1.0  \n",
       "8282       NEAR OCEAN     0.0  \n",
       "8353        <1H OCEAN     0.0  \n",
       "257          NEAR BAY     0.0  \n",
       "6143           INLAND     1.0  \n",
       "17648       <1H OCEAN     0.0  \n",
       "6617           INLAND     1.0  \n",
       "6419           INLAND     1.0  \n",
       "17505       <1H OCEAN     0.0  \n",
       "16512          INLAND     1.0  "
      ]
     },
     "execution_count": 11,
     "metadata": {},
     "output_type": "execute_result"
    }
   ],
   "source": [
    "housing_train.sample(10)"
   ]
  },
  {
   "cell_type": "markdown",
   "id": "26a76e94",
   "metadata": {},
   "source": [
    "e. \n",
    "\n",
    "Rather than regressing on the total number of rooms, it seems a bit more sensible to use average number of rooms per household.  Create a new feature called `rooms_per_household`."
   ]
  },
  {
   "cell_type": "code",
   "execution_count": 12,
   "id": "f83e1fcb",
   "metadata": {},
   "outputs": [],
   "source": [
    "housing_train['rooms_per_household'] = housing_train.total_rooms/housing_train.households"
   ]
  },
  {
   "cell_type": "code",
   "execution_count": 13,
   "id": "026d7806",
   "metadata": {},
   "outputs": [
    {
     "data": {
      "text/html": [
       "<div>\n",
       "<style scoped>\n",
       "    .dataframe tbody tr th:only-of-type {\n",
       "        vertical-align: middle;\n",
       "    }\n",
       "\n",
       "    .dataframe tbody tr th {\n",
       "        vertical-align: top;\n",
       "    }\n",
       "\n",
       "    .dataframe thead th {\n",
       "        text-align: right;\n",
       "    }\n",
       "</style>\n",
       "<table border=\"1\" class=\"dataframe\">\n",
       "  <thead>\n",
       "    <tr style=\"text-align: right;\">\n",
       "      <th></th>\n",
       "      <th>longitude</th>\n",
       "      <th>latitude</th>\n",
       "      <th>housing_median_age</th>\n",
       "      <th>total_rooms</th>\n",
       "      <th>total_bedrooms</th>\n",
       "      <th>population</th>\n",
       "      <th>households</th>\n",
       "      <th>median_income</th>\n",
       "      <th>median_house_value</th>\n",
       "      <th>ocean_proximity</th>\n",
       "      <th>INLAND</th>\n",
       "      <th>rooms_per_household</th>\n",
       "    </tr>\n",
       "  </thead>\n",
       "  <tbody>\n",
       "    <tr>\n",
       "      <th>5112</th>\n",
       "      <td>-118.29</td>\n",
       "      <td>33.97</td>\n",
       "      <td>48.0</td>\n",
       "      <td>3139.0</td>\n",
       "      <td>587.0</td>\n",
       "      <td>1319.0</td>\n",
       "      <td>506.0</td>\n",
       "      <td>35208.0</td>\n",
       "      <td>134200.0</td>\n",
       "      <td>&lt;1H OCEAN</td>\n",
       "      <td>0.0</td>\n",
       "      <td>6.203557</td>\n",
       "    </tr>\n",
       "    <tr>\n",
       "      <th>4761</th>\n",
       "      <td>-118.35</td>\n",
       "      <td>34.04</td>\n",
       "      <td>49.0</td>\n",
       "      <td>1104.0</td>\n",
       "      <td>266.0</td>\n",
       "      <td>668.0</td>\n",
       "      <td>297.0</td>\n",
       "      <td>30856.0</td>\n",
       "      <td>151600.0</td>\n",
       "      <td>&lt;1H OCEAN</td>\n",
       "      <td>0.0</td>\n",
       "      <td>3.717172</td>\n",
       "    </tr>\n",
       "    <tr>\n",
       "      <th>9340</th>\n",
       "      <td>-122.59</td>\n",
       "      <td>37.99</td>\n",
       "      <td>36.0</td>\n",
       "      <td>4869.0</td>\n",
       "      <td>871.0</td>\n",
       "      <td>1899.0</td>\n",
       "      <td>827.0</td>\n",
       "      <td>41659.0</td>\n",
       "      <td>302000.0</td>\n",
       "      <td>NEAR BAY</td>\n",
       "      <td>0.0</td>\n",
       "      <td>5.887545</td>\n",
       "    </tr>\n",
       "    <tr>\n",
       "      <th>5655</th>\n",
       "      <td>-118.30</td>\n",
       "      <td>33.74</td>\n",
       "      <td>23.0</td>\n",
       "      <td>3075.0</td>\n",
       "      <td>860.0</td>\n",
       "      <td>1584.0</td>\n",
       "      <td>806.0</td>\n",
       "      <td>29386.0</td>\n",
       "      <td>260500.0</td>\n",
       "      <td>NEAR OCEAN</td>\n",
       "      <td>0.0</td>\n",
       "      <td>3.815136</td>\n",
       "    </tr>\n",
       "    <tr>\n",
       "      <th>2890</th>\n",
       "      <td>-118.98</td>\n",
       "      <td>35.39</td>\n",
       "      <td>29.0</td>\n",
       "      <td>607.0</td>\n",
       "      <td>177.0</td>\n",
       "      <td>476.0</td>\n",
       "      <td>143.0</td>\n",
       "      <td>11875.0</td>\n",
       "      <td>50700.0</td>\n",
       "      <td>INLAND</td>\n",
       "      <td>1.0</td>\n",
       "      <td>4.244755</td>\n",
       "    </tr>\n",
       "    <tr>\n",
       "      <th>...</th>\n",
       "      <td>...</td>\n",
       "      <td>...</td>\n",
       "      <td>...</td>\n",
       "      <td>...</td>\n",
       "      <td>...</td>\n",
       "      <td>...</td>\n",
       "      <td>...</td>\n",
       "      <td>...</td>\n",
       "      <td>...</td>\n",
       "      <td>...</td>\n",
       "      <td>...</td>\n",
       "      <td>...</td>\n",
       "    </tr>\n",
       "    <tr>\n",
       "      <th>2075</th>\n",
       "      <td>-119.84</td>\n",
       "      <td>36.75</td>\n",
       "      <td>34.0</td>\n",
       "      <td>1186.0</td>\n",
       "      <td>300.0</td>\n",
       "      <td>774.0</td>\n",
       "      <td>271.0</td>\n",
       "      <td>15750.0</td>\n",
       "      <td>57100.0</td>\n",
       "      <td>INLAND</td>\n",
       "      <td>1.0</td>\n",
       "      <td>4.376384</td>\n",
       "    </tr>\n",
       "    <tr>\n",
       "      <th>3605</th>\n",
       "      <td>-118.48</td>\n",
       "      <td>34.23</td>\n",
       "      <td>30.0</td>\n",
       "      <td>1762.0</td>\n",
       "      <td>263.0</td>\n",
       "      <td>761.0</td>\n",
       "      <td>292.0</td>\n",
       "      <td>65268.0</td>\n",
       "      <td>273100.0</td>\n",
       "      <td>&lt;1H OCEAN</td>\n",
       "      <td>0.0</td>\n",
       "      <td>6.034247</td>\n",
       "    </tr>\n",
       "    <tr>\n",
       "      <th>11323</th>\n",
       "      <td>-117.97</td>\n",
       "      <td>33.76</td>\n",
       "      <td>28.0</td>\n",
       "      <td>1386.0</td>\n",
       "      <td>272.0</td>\n",
       "      <td>901.0</td>\n",
       "      <td>294.0</td>\n",
       "      <td>47464.0</td>\n",
       "      <td>187500.0</td>\n",
       "      <td>&lt;1H OCEAN</td>\n",
       "      <td>0.0</td>\n",
       "      <td>4.714286</td>\n",
       "    </tr>\n",
       "    <tr>\n",
       "      <th>19412</th>\n",
       "      <td>-121.01</td>\n",
       "      <td>37.74</td>\n",
       "      <td>14.0</td>\n",
       "      <td>2368.0</td>\n",
       "      <td>297.0</td>\n",
       "      <td>796.0</td>\n",
       "      <td>301.0</td>\n",
       "      <td>87783.0</td>\n",
       "      <td>435000.0</td>\n",
       "      <td>INLAND</td>\n",
       "      <td>1.0</td>\n",
       "      <td>7.867110</td>\n",
       "    </tr>\n",
       "    <tr>\n",
       "      <th>9518</th>\n",
       "      <td>-123.19</td>\n",
       "      <td>39.15</td>\n",
       "      <td>16.0</td>\n",
       "      <td>2577.0</td>\n",
       "      <td>495.0</td>\n",
       "      <td>1232.0</td>\n",
       "      <td>488.0</td>\n",
       "      <td>26012.0</td>\n",
       "      <td>125600.0</td>\n",
       "      <td>&lt;1H OCEAN</td>\n",
       "      <td>0.0</td>\n",
       "      <td>5.280738</td>\n",
       "    </tr>\n",
       "  </tbody>\n",
       "</table>\n",
       "<p>15564 rows × 12 columns</p>\n",
       "</div>"
      ],
      "text/plain": [
       "       longitude  latitude  housing_median_age  total_rooms  total_bedrooms  \\\n",
       "5112     -118.29     33.97                48.0       3139.0           587.0   \n",
       "4761     -118.35     34.04                49.0       1104.0           266.0   \n",
       "9340     -122.59     37.99                36.0       4869.0           871.0   \n",
       "5655     -118.30     33.74                23.0       3075.0           860.0   \n",
       "2890     -118.98     35.39                29.0        607.0           177.0   \n",
       "...          ...       ...                 ...          ...             ...   \n",
       "2075     -119.84     36.75                34.0       1186.0           300.0   \n",
       "3605     -118.48     34.23                30.0       1762.0           263.0   \n",
       "11323    -117.97     33.76                28.0       1386.0           272.0   \n",
       "19412    -121.01     37.74                14.0       2368.0           297.0   \n",
       "9518     -123.19     39.15                16.0       2577.0           495.0   \n",
       "\n",
       "       population  households  median_income  median_house_value  \\\n",
       "5112       1319.0       506.0        35208.0            134200.0   \n",
       "4761        668.0       297.0        30856.0            151600.0   \n",
       "9340       1899.0       827.0        41659.0            302000.0   \n",
       "5655       1584.0       806.0        29386.0            260500.0   \n",
       "2890        476.0       143.0        11875.0             50700.0   \n",
       "...           ...         ...            ...                 ...   \n",
       "2075        774.0       271.0        15750.0             57100.0   \n",
       "3605        761.0       292.0        65268.0            273100.0   \n",
       "11323       901.0       294.0        47464.0            187500.0   \n",
       "19412       796.0       301.0        87783.0            435000.0   \n",
       "9518       1232.0       488.0        26012.0            125600.0   \n",
       "\n",
       "      ocean_proximity  INLAND  rooms_per_household  \n",
       "5112        <1H OCEAN     0.0             6.203557  \n",
       "4761        <1H OCEAN     0.0             3.717172  \n",
       "9340         NEAR BAY     0.0             5.887545  \n",
       "5655       NEAR OCEAN     0.0             3.815136  \n",
       "2890           INLAND     1.0             4.244755  \n",
       "...               ...     ...                  ...  \n",
       "2075           INLAND     1.0             4.376384  \n",
       "3605        <1H OCEAN     0.0             6.034247  \n",
       "11323       <1H OCEAN     0.0             4.714286  \n",
       "19412          INLAND     1.0             7.867110  \n",
       "9518        <1H OCEAN     0.0             5.280738  \n",
       "\n",
       "[15564 rows x 12 columns]"
      ]
     },
     "execution_count": 13,
     "metadata": {},
     "output_type": "execute_result"
    }
   ],
   "source": [
    "housing_train"
   ]
  },
  {
   "cell_type": "markdown",
   "id": "4635a669",
   "metadata": {},
   "source": [
    "#### 4. Comparing models\n"
   ]
  },
  {
   "cell_type": "markdown",
   "id": "90aa5138",
   "metadata": {},
   "source": [
    "##### a. \n",
    "\n",
    "Create a pipeline for a kNN model.  It should first standardize the features and then train a kNN model with $k=10$ on those standardized features.  Train the model on the first $80\\%$ of the training data and evaluate it on the rest.\n",
    "\n",
    "We are doing this before cross-validation for pedagogical reasons:  probably the first time you write a pipeline should not be inside a loop where it is a little harder to debug."
   ]
  },
  {
   "cell_type": "code",
   "execution_count": 14,
   "id": "a3900d9f",
   "metadata": {},
   "outputs": [
    {
     "data": {
      "text/plain": [
       "Index(['longitude', 'latitude', 'housing_median_age', 'total_rooms',\n",
       "       'total_bedrooms', 'population', 'households', 'median_income',\n",
       "       'median_house_value', 'ocean_proximity', 'INLAND',\n",
       "       'rooms_per_household'],\n",
       "      dtype='object')"
      ]
     },
     "execution_count": 14,
     "metadata": {},
     "output_type": "execute_result"
    }
   ],
   "source": [
    "housing_train.columns"
   ]
  },
  {
   "cell_type": "code",
   "execution_count": 15,
   "id": "d7eb26ec",
   "metadata": {},
   "outputs": [
    {
     "name": "stdout",
     "output_type": "stream",
     "text": [
      "53121.33256840646\n"
     ]
    }
   ],
   "source": [
    "from sklearn.pipeline import Pipeline\n",
    "from sklearn.preprocessing import StandardScaler\n",
    "from sklearn.neighbors import KNeighborsRegressor\n",
    "from sklearn.metrics import root_mean_squared_error\n",
    "\n",
    "features = ['longitude', 'latitude', 'housing_median_age', 'total_rooms',\n",
    "       'total_bedrooms', 'population', 'households', 'median_income', 'INLAND',\n",
    "       'rooms_per_household']\n",
    "\n",
    "knn = Pipeline([('scale', StandardScaler()),('knn', KNeighborsRegressor(n_neighbors=10))])\n",
    "\n",
    "training_nobs = housing_train.shape[0] \n",
    "tt_nobs = int(training_nobs*0.8)\n",
    "housing_tt = housing_train.iloc[:tt_nobs,:]\n",
    "housing_val = housing_train.iloc[tt_nobs:,:]\n",
    "\n",
    "knn.fit(housing_tt[features], housing_tt.median_house_value)\n",
    "\n",
    "val_predictions = knn.predict(housing_val[features])\n",
    "print(root_mean_squared_error(housing_val.median_house_value, val_predictions))"
   ]
  },
  {
   "cell_type": "markdown",
   "id": "66dcfe93",
   "metadata": {},
   "source": [
    "##### b.\n",
    "\n",
    "Use cross validation to compare the following models:\n",
    "\n",
    "* A simple linear regression on `median_income`\n",
    "* A multiple linear regression using all of the features\n",
    "* A kNN model using all of the features"
   ]
  },
  {
   "cell_type": "code",
   "execution_count": 16,
   "id": "7b0e4b38",
   "metadata": {},
   "outputs": [],
   "source": [
    "from sklearn.model_selection import KFold\n",
    "from sklearn.linear_model import LinearRegression\n",
    "from sklearn.neighbors import KNeighborsRegressor\n"
   ]
  },
  {
   "cell_type": "code",
   "execution_count": 17,
   "id": "c07f5337",
   "metadata": {},
   "outputs": [
    {
     "data": {
      "text/plain": [
       "Index(['longitude', 'latitude', 'housing_median_age', 'total_rooms',\n",
       "       'total_bedrooms', 'population', 'households', 'median_income',\n",
       "       'median_house_value', 'ocean_proximity', 'INLAND',\n",
       "       'rooms_per_household'],\n",
       "      dtype='object')"
      ]
     },
     "execution_count": 17,
     "metadata": {},
     "output_type": "execute_result"
    }
   ],
   "source": [
    "housing_train.columns"
   ]
  },
  {
   "cell_type": "code",
   "execution_count": 18,
   "id": "70ea1203",
   "metadata": {},
   "outputs": [],
   "source": [
    "## Make a KFold object\n",
    "## remember to set a random_state and set shuffle = True\n",
    "num_splits = 5\n",
    "num_models = 3\n",
    "kfold = KFold(num_splits,\n",
    "              random_state = 216,\n",
    "              shuffle=True)\n",
    "\n",
    "\n",
    "## This array will hold the mse for each model and split\n",
    "rmses = np.zeros((num_models, num_splits))\n",
    "\n",
    "## sets a split counter\n",
    "i = 0\n",
    "\n",
    "## loop through the kfold here\n",
    "for train_index, test_index in kfold.split(housing_train):\n",
    "     ## cv training set\n",
    "    housing_tt = housing_train.iloc[train_index]\n",
    "    \n",
    "    ## cv holdout set\n",
    "    housing_ho = housing_train.iloc[test_index]\n",
    "    \n",
    "    slr = LinearRegression()\n",
    "    slr.fit(housing_tt[['median_income']],housing_tt.median_house_value)\n",
    "    rmses[0,i] = root_mean_squared_error(housing_ho.median_house_value, slr.predict(housing_ho[['median_income']]))\n",
    "\n",
    "    mlr = LinearRegression()\n",
    "    mlr.fit(housing_tt[features],housing_tt.median_house_value)\n",
    "    rmses[1,i] = root_mean_squared_error(housing_ho.median_house_value, mlr.predict(housing_ho[features]))\n",
    "\n",
    "    knn = Pipeline([('scale', StandardScaler()),('knn', KNeighborsRegressor(n_neighbors=10))]) \n",
    "    knn.fit(housing_tt[features],housing_tt.median_house_value)\n",
    "    rmses[2,i] = root_mean_squared_error(housing_ho.median_house_value, knn.predict(housing_ho[features]))\n",
    "\n",
    "    i = i + 1"
   ]
  },
  {
   "cell_type": "code",
   "execution_count": 19,
   "id": "b43c74d6",
   "metadata": {},
   "outputs": [
    {
     "data": {
      "text/plain": [
       "(array([73989.14317308, 60238.82673667, 54872.04072777]),\n",
       " array([852.60077283, 775.31763633, 559.45556577]))"
      ]
     },
     "execution_count": 19,
     "metadata": {},
     "output_type": "execute_result"
    }
   ],
   "source": [
    "rmses.mean(axis = 1), rmses.std(axis = 1)"
   ]
  },
  {
   "cell_type": "markdown",
   "id": "c6ec597c",
   "metadata": {},
   "source": [
    "Compare/Contrast the performance of these models.  How did they compare with the models from last week?"
   ]
  },
  {
   "cell_type": "markdown",
   "id": "23ec99e2",
   "metadata": {},
   "source": [
    "##### Sample Solution\n",
    "\n",
    "Of these 3 models, kNN has the lowest cross validation RMSE.  However, the performance of the kNN using all features is worse than when we only used lat/lon last week!"
   ]
  },
  {
   "cell_type": "markdown",
   "id": "2ea85650",
   "metadata": {},
   "source": [
    "### BONUS\n",
    "\n",
    "If you somehow still have time to work on a bonus activity, try this!\n",
    "\n",
    "Fill in the blanks for the class called `KNN_then_Linear` below which first fits a KNN model to one subset of the features and then fits a linear model to the residuals of the KNN model using another subset of the features.\n",
    "\n",
    "This is a simple example of a strategy called \"boosting\" which we will cover in more depth later.\n",
    "\n",
    "What is the cross validation rmse of this model when we use lat/lon for the KNN features and median income and INLAND for the linear feature?"
   ]
  },
  {
   "cell_type": "code",
   "execution_count": 20,
   "id": "eb60e00f",
   "metadata": {},
   "outputs": [],
   "source": [
    "class KNN_then_Linear():\n",
    "    def __init__(self, knn_features, linear_features, n_neighbors = 10):\n",
    "        '''\n",
    "        knn_features: A list of feature names for knn\n",
    "        linear_features: A list of feature names for linear regression on the residuals of the knn model\n",
    "        n_neighbors: The number of neighbors used by knn\n",
    "        '''\n",
    "        self.knn = None\n",
    "        self.linear = None\n",
    "        self.n_neighbors = n_neighbors\n",
    "        self.knn_features = knn_features\n",
    "        self.linear_features = linear_features\n",
    "    def fit(self,X,y):\n",
    "        '''\n",
    "        X:  A pandas dataframe.  It must have all features in knn_features and linear_features\n",
    "        y:  A pandas series.\n",
    "        '''\n",
    "        self.knn = KNeighborsRegressor(n_neighbors=self.n_neighbors)\n",
    "        self.knn.fit(X[self.knn_features],y)\n",
    "        predictions = self.knn.predict(X[self.knn_features])\n",
    "        residuals = y - predictions\n",
    "        self.linear = LinearRegression()\n",
    "        self.linear.fit(X[self.linear_features], residuals)\n",
    "    def predict(self,X):\n",
    "        '''\n",
    "        X:  A pandas dataframe.  It must have all features in knn_features and linear_features\n",
    "        returns: the prediction of the model on X\n",
    "        '''\n",
    "        return self.knn.predict(X[self.knn_features]) + self.linear.predict(X[self.linear_features])"
   ]
  },
  {
   "cell_type": "code",
   "execution_count": 21,
   "id": "63e310dd",
   "metadata": {},
   "outputs": [],
   "source": [
    "num_splits = 5\n",
    "kfold = KFold(num_splits,\n",
    "              random_state = 216,\n",
    "              shuffle=True)\n",
    "\n",
    "rmses_ktl = np.zeros(num_splits)\n",
    "\n",
    "i=0\n",
    "for train_index, test_index in kfold.split(housing_train):\n",
    "    ## cv training set\n",
    "    housing_tt = housing_train.iloc[train_index]\n",
    "    \n",
    "    ## cv holdout set\n",
    "    housing_ho = housing_train.iloc[test_index]\n",
    "      \n",
    "    ## Fit and get ho mse for mlr model\n",
    "    ktl = KNN_then_Linear(knn_features=['latitude','longitude'], linear_features=['median_income', 'INLAND'])\n",
    "    \n",
    "    ktl.fit(housing_tt[['latitude','longitude', 'median_income', 'INLAND']], housing_tt.median_house_value)    \n",
    "    rmses_ktl[i] = root_mean_squared_error(housing_ho.median_house_value, ktl.predict(housing_ho[['latitude','longitude', 'median_income', 'INLAND']]))\n",
    "    i = i + 1"
   ]
  },
  {
   "cell_type": "code",
   "execution_count": 22,
   "id": "9ca2953f",
   "metadata": {},
   "outputs": [
    {
     "name": "stdout",
     "output_type": "stream",
     "text": [
      "44856.99817768294\n"
     ]
    }
   ],
   "source": [
    "print(rmses_ktl.mean())"
   ]
  },
  {
   "cell_type": "markdown",
   "id": "243026ee",
   "metadata": {},
   "source": [
    "Our best performing model yet!"
   ]
  },
  {
   "cell_type": "markdown",
   "id": "81205ab9",
   "metadata": {},
   "source": [
    "--------------------------\n",
    "\n",
    "This notebook was written for the Erdős Institute Data Science Boot Camp by Steven Gubkin.\n",
    "\n",
    "Please refer to the license in this repo for information on redistribution."
   ]
  }
 ],
 "metadata": {
  "kernelspec": {
   "display_name": "erdos_spring_2025",
   "language": "python",
   "name": "python3"
  },
  "language_info": {
   "codemirror_mode": {
    "name": "ipython",
    "version": 3
   },
   "file_extension": ".py",
   "mimetype": "text/x-python",
   "name": "python",
   "nbconvert_exporter": "python",
   "pygments_lexer": "ipython3",
   "version": "3.12.8"
  }
 },
 "nbformat": 4,
 "nbformat_minor": 5
}
