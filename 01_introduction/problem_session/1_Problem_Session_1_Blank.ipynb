{
 "cells": [
  {
   "cell_type": "markdown",
   "id": "be3be057",
   "metadata": {},
   "source": [
    "# Problem Session 1\n",
    "\n",
    "This notebook will be your first problem solving session notebook. In the first problem solving session we will check that your computer is set up with python and you are able to access `jupyter notebook`s. Once that is done for your group you should work through the problems below. These problems touch on basic:\n",
    "- Python,\n",
    "- Coding,\n",
    "- `numpy`,\n",
    "- `pandas`, and\n",
    "- `matplotlib`.\n",
    "\n",
    "If your group runs into trouble, try to find a TA to assist you or answer your question(s).\n",
    "\n",
    "Have fun!"
   ]
  },
  {
   "cell_type": "markdown",
   "id": "7ee9b08b",
   "metadata": {},
   "source": [
    "##### 1. a) \n",
    "\n",
    "Import `pandas`, `numpy` and `matplotlib`. Then using `.__version__` check the version each member of your group has, see if everyone has the same version or if people have different versions."
   ]
  },
  {
   "cell_type": "code",
   "execution_count": 8,
   "id": "4692eff5",
   "metadata": {},
   "outputs": [],
   "source": [
    "## Code here\n",
    "\n"
   ]
  },
  {
   "cell_type": "code",
   "execution_count": 9,
   "id": "9ffe3d51",
   "metadata": {},
   "outputs": [],
   "source": [
    "## Code here\n",
    "\n"
   ]
  },
  {
   "cell_type": "code",
   "execution_count": 10,
   "id": "aec0f1ec",
   "metadata": {},
   "outputs": [],
   "source": [
    "## Code here\n",
    "\n"
   ]
  },
  {
   "cell_type": "markdown",
   "id": "ad114c18",
   "metadata": {},
   "source": [
    "##### 1. b)\n",
    "\n",
    "Suppose two members of your group try and run the exact same chunk of python code. Could you think of a python package-related reason why that code might work for one group member but not the other?  Discuss briefly with your group."
   ]
  },
  {
   "cell_type": "markdown",
   "id": "efb521af",
   "metadata": {},
   "source": [
    "##### 2. Is divisble by\n",
    "\n",
    "In this problem you will work to write a function that checks if a given positive integer is divisible by another given positive integer. Work through the parts below.\n",
    "\n",
    "##### a)\n",
    "\n",
    "We say that one positive integer, $a$, is divisble by another positive integer, $b$, if there is no remainder after dividing $a$ by $b$. Play around with `%` and `//` as python operations to see which one will be most useful for your function."
   ]
  },
  {
   "cell_type": "code",
   "execution_count": 11,
   "id": "1f92c635",
   "metadata": {},
   "outputs": [],
   "source": [
    "## code here\n",
    "\n"
   ]
  },
  {
   "cell_type": "code",
   "execution_count": 12,
   "id": "01111a91",
   "metadata": {},
   "outputs": [],
   "source": [
    "## code here\n",
    "\n"
   ]
  },
  {
   "cell_type": "code",
   "execution_count": 13,
   "id": "dcaf28ee",
   "metadata": {},
   "outputs": [],
   "source": [
    "## code here\n",
    "\n"
   ]
  },
  {
   "cell_type": "markdown",
   "id": "c030decc",
   "metadata": {},
   "source": [
    "##### b)\n",
    "\n",
    "Write a function that takes in two positive integers and determines if the first is divisible by the second. For the purposes of this question you can assume that the inputs will always be positive integers."
   ]
  },
  {
   "cell_type": "code",
   "execution_count": 14,
   "id": "10e2ac52",
   "metadata": {},
   "outputs": [
    {
     "ename": "NameError",
     "evalue": "name 'is_divisible' is not defined",
     "output_type": "error",
     "traceback": [
      "\u001b[0;31m---------------------------------------------------------------------------\u001b[0m",
      "\u001b[0;31mNameError\u001b[0m                                 Traceback (most recent call last)",
      "Cell \u001b[0;32mIn[14], line 6\u001b[0m\n\u001b[1;32m      1\u001b[0m \u001b[38;5;66;03m## code here\u001b[39;00m\n\u001b[1;32m      2\u001b[0m \n\u001b[1;32m      3\u001b[0m \u001b[38;5;66;03m# Write your function to pass the following checks.\u001b[39;00m\n\u001b[0;32m----> 6\u001b[0m \u001b[38;5;28;01massert\u001b[39;00m(\u001b[43mis_divisible\u001b[49m(\u001b[38;5;241m9\u001b[39m,\u001b[38;5;241m3\u001b[39m))\n\u001b[1;32m      7\u001b[0m \u001b[38;5;28;01massert\u001b[39;00m(is_divisible(\u001b[38;5;241m12\u001b[39m, \u001b[38;5;241m4\u001b[39m))\n\u001b[1;32m      8\u001b[0m \u001b[38;5;28;01massert\u001b[39;00m(\u001b[38;5;129;01mnot\u001b[39;00m is_divisible(\u001b[38;5;241m3\u001b[39m,\u001b[38;5;241m9\u001b[39m))\n",
      "\u001b[0;31mNameError\u001b[0m: name 'is_divisible' is not defined"
     ]
    }
   ],
   "source": [
    "## code here\n",
    "\n",
    "# Write your function to pass the following checks.\n",
    "\n",
    "\n",
    "assert(is_divisible(9,3))\n",
    "assert(is_divisible(12, 4))\n",
    "assert(not is_divisible(3,9))\n",
    "assert(not is_divisible(5,2))"
   ]
  },
  {
   "cell_type": "code",
   "execution_count": null,
   "id": "956c9b70",
   "metadata": {},
   "outputs": [],
   "source": [
    "## code here\n",
    "\n"
   ]
  },
  {
   "cell_type": "markdown",
   "id": "2ccd44e0",
   "metadata": {},
   "source": [
    "##### c)\n",
    "\n",
    "How would your function have needed to change if you were not able to assume that the inputs would always be positive integers? Discuss with your group."
   ]
  },
  {
   "cell_type": "markdown",
   "id": "a5c450cd",
   "metadata": {},
   "source": [
    "##### 3. Palindrome checker\n",
    "\n",
    "A palindrome is a word or sentence that has the same sequence of letters regardless of whether the text is written correctly or in reverse. For example \"taco cat\" is a palindrome.\n",
    "\n",
    "Work through the following problems to build a palindrome detection function.\n",
    "\n",
    "<i>Note: We will assume that the text we want to check is free of punctuation</i>\n",
    "\n",
    "##### a)\n",
    "\n",
    "In this problem we are only considering string palindromes. Write a function that takes in an argument and checks if it is a string. Test your function using the variables defined in the code chunk below."
   ]
  },
  {
   "cell_type": "code",
   "execution_count": null,
   "id": "a007c98c",
   "metadata": {},
   "outputs": [],
   "source": [
    "a = 200903\n",
    "b = 'apple'\n",
    "c = [1,2,3,'1','2','3']\n",
    "d = False"
   ]
  },
  {
   "cell_type": "code",
   "execution_count": null,
   "id": "c1935c54",
   "metadata": {},
   "outputs": [],
   "source": [
    "## Code here\n",
    "\n",
    "## Write your code to pass the following tests\n",
    "\n",
    "assert(not is_string(a))\n",
    "assert(is_string(b))\n",
    "assert(not is_string(c))\n",
    "assert(not is_string(d))"
   ]
  },
  {
   "cell_type": "markdown",
   "id": "95d71934",
   "metadata": {},
   "source": [
    "##### b)\n",
    "\n",
    "When we are checking if a piece of text is a palindrome we ignore spaces. Try using the `.replace()` string function to replace the spaces in the strings below with the empty string."
   ]
  },
  {
   "cell_type": "code",
   "execution_count": null,
   "id": "be03226c",
   "metadata": {},
   "outputs": [],
   "source": [
    "a = 'Spongebob Squarepants'\n",
    "b = 'my name is James'\n",
    "c = 'Happy Birtday'"
   ]
  },
  {
   "cell_type": "code",
   "execution_count": null,
   "id": "c32367cd",
   "metadata": {},
   "outputs": [],
   "source": [
    "## code here\n",
    "\n"
   ]
  },
  {
   "cell_type": "markdown",
   "id": "8601bdeb",
   "metadata": {},
   "source": [
    "##### c)\n",
    "\n",
    "We should also ignore the case of the letters. Try to make all of the letters in the strings stored in `a`, `b` and `c` from part b) the same case using `.lower()` or `.upper()`."
   ]
  },
  {
   "cell_type": "code",
   "execution_count": null,
   "id": "15a6820a",
   "metadata": {},
   "outputs": [],
   "source": [
    "## code here\n",
    "\n"
   ]
  },
  {
   "cell_type": "code",
   "execution_count": null,
   "id": "6f1a4131",
   "metadata": {},
   "outputs": [],
   "source": [
    "## code here\n",
    "\n"
   ]
  },
  {
   "cell_type": "code",
   "execution_count": null,
   "id": "3e4b7dd6",
   "metadata": {},
   "outputs": [],
   "source": [
    "## code here\n",
    "\n"
   ]
  },
  {
   "cell_type": "markdown",
   "id": "aa601794",
   "metadata": {},
   "source": [
    "##### d)\n",
    "\n",
    "Try and put parts a) - c) together and write a function that returns:\n",
    "- `True` if the input is a string and a palindrome, \n",
    "- `False` if the input is a string and not a palindrome, and\n",
    "- `None` if the input is not a string.\n",
    "\n",
    "Test your function on the strings defined below."
   ]
  },
  {
   "cell_type": "code",
   "execution_count": null,
   "id": "3d31d7ab",
   "metadata": {},
   "outputs": [],
   "source": [
    "a = 'kayak'\n",
    "b = 'Patrick Star'\n",
    "c = 'A Man a Plan a Canal Panama'\n",
    "d = 9909028"
   ]
  },
  {
   "cell_type": "code",
   "execution_count": null,
   "id": "694603ff",
   "metadata": {},
   "outputs": [],
   "source": [
    "## code here\n",
    "\n",
    "assert(is_palindrome(a))\n",
    "assert(not is_palindrome(b))\n",
    "assert(is_palindrome(c))\n",
    "assert(is_palindrome(d) is None)"
   ]
  },
  {
   "cell_type": "markdown",
   "id": "abe8c435",
   "metadata": {},
   "source": [
    "##### 4. A `numpy` refresher"
   ]
  },
  {
   "cell_type": "markdown",
   "id": "59f45f94",
   "metadata": {},
   "source": [
    "##### a)\n",
    "\n",
    "Use [`np.linspace`](https://numpy.org/doc/stable/reference/generated/numpy.linspace.html) to create an array called `x_values` which is of the form `[1, 1.1, 1.2, 1.3, ..., 4.9, 5]`"
   ]
  },
  {
   "cell_type": "code",
   "execution_count": null,
   "id": "e74be1cd",
   "metadata": {},
   "outputs": [],
   "source": [
    "## code here\n",
    "x_values = \n"
   ]
  },
  {
   "cell_type": "markdown",
   "id": "47a32dfd",
   "metadata": {},
   "source": [
    "##### b)\n",
    "\n",
    "Use [`np.random.normal`](https://numpy.org/doc/stable/reference/random/generated/numpy.random.normal.html), [`np.random.uniform`](https://numpy.org/doc/stable/reference/random/generated/numpy.random.uniform.html) and either [`np.zeros`](https://numpy.org/doc/stable/reference/generated/numpy.zeros.html) or [`np.concatenate`](https://numpy.org/doc/stable/reference/generated/numpy.concatenate.html) to create an array $X$ with $100$ rows and $2$ columns.  The first column should be drawn from a normal distribution with mean $2$ and standard deviation $1$, while the second column should be drawn from a uniform distribution over $[1,3]$."
   ]
  },
  {
   "cell_type": "code",
   "execution_count": null,
   "id": "d17731b2",
   "metadata": {},
   "outputs": [],
   "source": [
    "## code here\n",
    "X = "
   ]
  },
  {
   "cell_type": "markdown",
   "id": "34caf4d9",
   "metadata": {},
   "source": [
    "##### c)\n",
    "\n",
    "It is important to understand reshaping and indexing.\n",
    "\n",
    "For each of the following, try to work out what the result will look like using pencil/paper.  Then run the code to see if you are right.  Discuss with your team."
   ]
  },
  {
   "cell_type": "code",
   "execution_count": null,
   "id": "09307098",
   "metadata": {},
   "outputs": [],
   "source": [
    "A = np.array([[1,2,3,4],[5,6,7,8],[9,10,11,12]])\n",
    "print(A)"
   ]
  },
  {
   "cell_type": "code",
   "execution_count": null,
   "id": "f3c64e79",
   "metadata": {},
   "outputs": [],
   "source": [
    "print(A.reshape(4,3))"
   ]
  },
  {
   "cell_type": "code",
   "execution_count": null,
   "id": "f0e741fc",
   "metadata": {},
   "outputs": [],
   "source": [
    "print(A.reshape(-1, 2))"
   ]
  },
  {
   "cell_type": "code",
   "execution_count": null,
   "id": "81e891f6",
   "metadata": {},
   "outputs": [],
   "source": [
    "print(A.reshape(1,-1))"
   ]
  },
  {
   "cell_type": "code",
   "execution_count": null,
   "id": "52c3f184",
   "metadata": {},
   "outputs": [],
   "source": [
    "print(A.reshape(-1))"
   ]
  },
  {
   "cell_type": "code",
   "execution_count": null,
   "id": "07dc98a5",
   "metadata": {},
   "outputs": [],
   "source": [
    "print(A[:, 1])"
   ]
  },
  {
   "cell_type": "code",
   "execution_count": null,
   "id": "01f9586e",
   "metadata": {},
   "outputs": [],
   "source": [
    "print(A[1,:])"
   ]
  },
  {
   "cell_type": "code",
   "execution_count": null,
   "id": "83c6d95e",
   "metadata": {},
   "outputs": [],
   "source": [
    "print(A[1,[2,3]])"
   ]
  },
  {
   "cell_type": "markdown",
   "id": "bc6e205a",
   "metadata": {},
   "source": [
    "##### 5. Analyzing cookie recipes\n",
    "\n",
    "In this problem you will practice using `pandas` and `matplotlib`. Complete parts a) through d).\n",
    "\n",
    "##### a)\n",
    "\n",
    "Read in the `cookie_recipes.csv` file from the `data` folder."
   ]
  },
  {
   "cell_type": "code",
   "execution_count": null,
   "id": "82d1e6a2",
   "metadata": {},
   "outputs": [],
   "source": [
    "## code here\n"
   ]
  },
  {
   "cell_type": "markdown",
   "id": "a4904ec1",
   "metadata": {},
   "source": [
    "##### b)\n",
    "\n",
    "Look at a random sample of 3 rows. What columns are there?"
   ]
  },
  {
   "cell_type": "code",
   "execution_count": null,
   "id": "34ca20d7",
   "metadata": {},
   "outputs": [],
   "source": [
    "## code here\n",
    "\n"
   ]
  },
  {
   "cell_type": "markdown",
   "id": "366bfdb5",
   "metadata": {},
   "source": [
    "##### c)\n",
    "\n",
    "What is the minimum number of eggs used over all recipes? the maximum?"
   ]
  },
  {
   "cell_type": "code",
   "execution_count": null,
   "id": "474494d6",
   "metadata": {},
   "outputs": [],
   "source": [
    "## code here\n",
    "\n"
   ]
  },
  {
   "cell_type": "markdown",
   "id": "2f5b32fa",
   "metadata": {},
   "source": [
    "##### d)\n",
    "\n",
    "Plot the rating of the recipe against:\n",
    "- The amount of `butter` used,\n",
    "- The amount of `flour` users, and\n",
    "- The amount of chocolate `chips` used.\n",
    "\n",
    "Do any of these variables seem to be associated with the rating? If so how?"
   ]
  },
  {
   "cell_type": "code",
   "execution_count": null,
   "id": "19bc5675",
   "metadata": {},
   "outputs": [],
   "source": [
    "## code here\n",
    "\n"
   ]
  },
  {
   "cell_type": "code",
   "execution_count": null,
   "id": "04301ff5",
   "metadata": {},
   "outputs": [],
   "source": [
    "## code here\n",
    "\n"
   ]
  },
  {
   "cell_type": "code",
   "execution_count": null,
   "id": "cef9a457",
   "metadata": {},
   "outputs": [],
   "source": [
    "## code here\n",
    "\n"
   ]
  },
  {
   "cell_type": "markdown",
   "id": "b51519ab",
   "metadata": {},
   "source": [
    "##### 6. Getting started with classes\n",
    "\n",
    "In this problem you will practice creating and using classes.\n",
    "\n",
    "In this boot camp we will use the `sklearn` library extensively.  The API for estimators is:\n",
    "\n",
    "```python\n",
    "# import an supervised learning model class\n",
    "from sklearn.blah import estimator\n",
    "\n",
    "# instantiate the estimator with arguments and keyword arguments\n",
    "model = estimator(*args, **kwargs)\n",
    "\n",
    "# Fit the model to the training data (input_data, targets)\n",
    "model.fit(X_train,y_train)\n",
    "\n",
    "# Predict the results using new input_data\n",
    "model.predict(X_new)\n",
    "```\n",
    "\n",
    "We will write a class `MeanRegressor` which reproduces the functionality of sklearn's [Dummy Regressor](https://scikit-learn.org/1.5/modules/generated/sklearn.dummy.DummyRegressor.html) when using the \"mean\" strategy."
   ]
  },
  {
   "cell_type": "code",
   "execution_count": 15,
   "id": "beba20ed",
   "metadata": {},
   "outputs": [],
   "source": [
    "class MeanRegressor():\n",
    "    '''\n",
    "    A model which learns the mean of the training targets.\n",
    "    '''\n",
    "    def __init__(self):\n",
    "        self.training_mean = None\n",
    "\n",
    "    def fit(self, X_train, y_train):\n",
    "        '''\n",
    "        X_train: the input data as a numpy array. Not used at all in .fit\n",
    "        y_train: the training targets as a numpy array.\n",
    "        training_mean: the mean of the training targets.\n",
    "        '''\n",
    "        if not type(X_train).__module__ == np.__name__:\n",
    "            raise TypeError(\"X_train is not a numpy array\")\n",
    "        if not type(y_train).__module__ == np.__name__:\n",
    "            raise TypeError(\"y_train is not a numpy array\")\n",
    "        if not X_train.shape[0] == y_train.shape[0]:\n",
    "            raise ValueError(f\"X_train has {X_train.shape[0]} rows while y_train has {y_train.shape[0]}\")\n",
    "            \n",
    "        self.training_mean =   # your code here.\n",
    "        \n",
    "    def predict(self, X_new):\n",
    "        '''\n",
    "        X_new: the new input data.\n",
    "        preds: \n",
    "            The predicted outputs. \n",
    "            It is a one dimensional numpy array with as many entries as X_new has rows.\n",
    "            Each entry should be equal to the training mean.\n",
    "        '''\n",
    "        if self.training_mean is None:\n",
    "            raise Exception('You need to fit the model before prediction')\n",
    "        preds =  # your code here.\n",
    "        return preds"
   ]
  },
  {
   "cell_type": "code",
   "execution_count": null,
   "id": "246934eb",
   "metadata": {},
   "outputs": [],
   "source": [
    "mr = MeanRegressor()\n",
    "mr.fit(np.random.random(size=(5,2)), np.array([1,2,3,4,5]))\n",
    "assert(mr.predict(np.zeros((3,2))).shape == (3,)), \"array of predictions is not the correct shape\"\n",
    "assert(np.array_equal(mr.predict(np.zeros((3,2))), np.array([3,3,3]))), \"Each entry of the predictions is not identical to the mean of the training targets\""
   ]
  },
  {
   "cell_type": "markdown",
   "id": "790d2ca0",
   "metadata": {},
   "source": [
    "--------------------------\n",
    "\n",
    "This notebook was written for the Erd&#337;s Institute C&#337;de Data Science Boot Camp by Matthew Osborne, Ph. D., 2023. Updated by Steven Gubkin 2024.\n",
    "\n",
    "Any potential redistributors must seek and receive permission from Matthew Tyler Osborne, Ph.D. prior to redistribution. Redistribution of the material contained in this repository is conditional on acknowledgement of Matthew Tyler Osborne, Ph.D.'s original authorship and sponsorship of the Erdős Institute as subject to the license (see License.md)"
   ]
  }
 ],
 "metadata": {
  "kernelspec": {
   "display_name": "erdos_spring_2025",
   "language": "python",
   "name": "python3"
  },
  "language_info": {
   "codemirror_mode": {
    "name": "ipython",
    "version": 3
   },
   "file_extension": ".py",
   "mimetype": "text/x-python",
   "name": "python",
   "nbconvert_exporter": "python",
   "pygments_lexer": "ipython3",
   "version": "3.12.8"
  }
 },
 "nbformat": 4,
 "nbformat_minor": 5
}
