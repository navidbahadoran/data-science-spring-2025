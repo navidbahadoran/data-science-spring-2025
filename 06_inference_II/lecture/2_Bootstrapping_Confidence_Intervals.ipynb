{
 "cells": [
  {
   "cell_type": "markdown",
   "metadata": {},
   "source": [
    "# Bootstrapping Confidence Intervals\n",
    "\n",
    "## What we will accomplish in this notebook\n",
    "\n",
    "We will learn two methods for obtaining a confidence interval from a bootstrapping distribution and mention one more.\n",
    "- The percentile method\n",
    "- The \"reverse\" method (also sometimes called \"basic\")\n",
    "- We will just mention the $\\textrm{BC}_{a}$ method (\"**B**ias **C**orrected and **a**ccelerated\") so that it is \"on your radar\"."
   ]
  },
  {
   "cell_type": "markdown",
   "metadata": {},
   "source": [
    "## Introducing some notation\n",
    "\n",
    "We have a sample stored in a dataframe $\\textrm{df}$.  \n",
    "\n",
    "* If we use a subscript of $0$ for a symbol (e.g. $S_0$) are indicating a \"true\" population level value.  \n",
    "* If we use a hat over a symbol (e.g. $\\hat{S}$) we are indicating an estimate using the original sample $\\textrm{df}$. \n",
    "* If we use a tilde over a symbol (e.g. $\\tilde{S} $) we are indicating an estimate from a bootstrap simulation or resample. \n",
    "\n",
    "For instance, we have a true parameter value of $\\theta_0$ and our parameter estimate from this data will be $\\hat{\\theta}$.  When we simulated from the fitted model or resample from $\\textrm{df}$ we generate bootstrap datasets $\\widehat{\\textrm{df}}_1, \\widehat{\\textrm{df}}_2, \\widehat{\\textrm{df}}_3, \\dots ,\\widehat{\\textrm{df}}_B$. Similarly the corresponding re-estimates of the parameter be $\\tilde{\\theta}_1, \\tilde{\\theta}_2, \\tilde{\\theta}_3, \\dots, \\tilde{\\theta}_B$.  Let $T$ be a statistic (i.e. a function which takes a sample and returns a real number).  We have  $\\hat{t} = T(\\textrm{df})$ and $\\tilde{t}_i = T(\\widehat{\\textrm{df}}_i)$."
   ]
  },
  {
   "cell_type": "markdown",
   "metadata": {},
   "source": [
    "### The Percentile Method\n",
    "\n",
    "When we use bootstrapping to compute confidence intervals for a statistic we are assuming that the distribution of $\\tilde{t}$ is similar to the distribution of $\\hat{t}$.  We want to approximate a $1-\\alpha$ confidence interval for $t_0$.  Let $q_{\\alpha/2}$ and $q_{1-\\alpha/2}$ be the $\\alpha/2$ and $1 - \\alpha/2$ quantiles of $\\tilde{t}$. \n",
    "\n",
    "The **percentile method** uses $(q_{\\alpha/2}, q_{1-\\alpha/2})$ as our estimate of the confidence interval. \n",
    "\n",
    "This is the method we used in the last notebook.  \n",
    "\n",
    "It is generally **ill-advised** to use this method in practice, because it is easy to improve on the method."
   ]
  },
  {
   "cell_type": "markdown",
   "metadata": {},
   "source": [
    "### The \"Reverse\" Method\n",
    "\n",
    "Compare the following two approximations:  $\\hat{t} - t_0 \\approx \\tilde{t} - \\hat{t}$ vs. $\\hat{t} \\approx \\tilde{t}$.  Generally the first approximation will be closer than the second, for a given amount of data. We can leverage this to give us somewhat more accurate confidence intervals as follows:\n",
    "\n",
    "$$\n",
    "\\begin{align*}\n",
    "1 - \\alpha \n",
    "&= P\\left( q_{\\alpha/2} \\lt \\tilde{T} \\lt q_{1- \\alpha/2} \\right)\\\\\n",
    "&= P\\left( q_{\\alpha/2} - \\hat{T} \\lt \\tilde{T} - \\hat{T} \\lt q_{1- \\alpha/2}  - \\hat{T}\\right)\\\\\n",
    "&\\approx P\\left( q_{\\alpha/2} - \\hat{T} \\lt \\hat{T} - t_0 \\lt q_{1- \\alpha/2}  - \\hat{T}\\right)\\\\\n",
    "&= P\\left( q_{\\alpha/2} - 2\\hat{T} \\lt  - t_0 \\lt q_{1- \\alpha/2}  - 2 \\hat{T}\\right)\\\\\n",
    "&= P\\left( 2\\hat{T} - q_{\\alpha/2} \\gt  t_0 \\gt  2 \\hat{T} - q_{1- \\alpha/2} \\right)\\\\\n",
    "&= P\\left( 2 \\hat{T} - q_{1- \\alpha/2} \\lt t_0 \\lt 2\\hat{T} - q_{\\alpha/2}   \\right)\\\\\n",
    "\\end{align*}\n",
    "$$\n",
    "\n",
    "So we have obtained the confidence interval $(2 \\hat{T} - q_{1- \\alpha/2},  2\\hat{T} - q_{\\alpha/2})$.  I prefer to algebraically rewrite this in the form  $(\\hat{T} - (q_{1- \\alpha/2} - \\hat{T}),  \\hat{T} + (\\hat{T} - q_{\\alpha/2}))$ as it helps give me a visual understanding (subtracting is visually easier for me than doubling).  If the bootstrap sampling distribution is symmetric about $\\hat{t}$ then this is equivalent to the percentile method, but in general it need not be.\n",
    "\n",
    "Note that we are using the $1 - \\alpha/2$ quantile on the **left** and the $\\alpha/2$ quantile on the **right**.  That is why this is called the **reverse** method.  It will generally have coverage closer to the nominal level of $1-\\alpha$ compared to the percentile method.  Since computing this requires essentially no additional work compared to the percentile method it is a good baseline method to use.  It is also often called the **basic** method.\n",
    "\n",
    "Let's repeat a confidence interval calculation from the `1_Bootstrapping_Methods` notebook using this method to see how it would work.  We will regress price on living area and give a confidence interval for the slope."
   ]
  },
  {
   "cell_type": "code",
   "execution_count": 2,
   "metadata": {},
   "outputs": [
    {
     "name": "stdout",
     "output_type": "stream",
     "text": [
      "Our point estimate of the slope is 280.62356789745076\n",
      "The percentile confidence interval is (269.8654615676337,291.8980250572161)\n",
      "The reverse confidence interval is (269.3491107376854,291.3816742272678)\n"
     ]
    }
   ],
   "source": [
    "import pandas as pd\n",
    "import numpy as np \n",
    "from sklearn.linear_model import LinearRegression\n",
    "\n",
    "df = pd.read_csv(\"../../data/kc_house_data.csv\")\n",
    "nobs = df.shape[0]\n",
    "\n",
    "# Fitting a linear regression model to the data\n",
    "model = LinearRegression()\n",
    "model.fit(df.sqft_living.values.reshape(-1,1), df.price)\n",
    "\n",
    "# Resampling based bootstrap of the slope\n",
    "slopes = []\n",
    "resampled_model = LinearRegression()\n",
    "\n",
    "for i in range(10000):\n",
    "    resampled_df = df.sample(n=nobs, replace=True)\n",
    "    resampled_model.fit(resampled_df.sqft_living.values.reshape(-1,1), resampled_df.price)\n",
    "    slopes.append(resampled_model.coef_[0])\n",
    "\n",
    "# Obtaining the quantiles\n",
    "quantiles = np.quantile(slopes, [0.025, 0.975])\n",
    "\n",
    "# Obtaining the lower and upper limits of the \"reverse\" confidence interval\n",
    "lower = 2*model.coef_[0] - quantiles[1]\n",
    "upper = 2*model.coef_[0] - quantiles[0]\n",
    "\n",
    "# Comparing the percentile and reverse confidence intervals\n",
    "print(f\"Our point estimate of the slope is {model.coef_[0]}\")\n",
    "print(f\"The percentile confidence interval is ({quantiles[0]},{quantiles[1]})\")\n",
    "print(f\"The reverse confidence interval is ({lower},{upper})\")"
   ]
  },
  {
   "cell_type": "markdown",
   "metadata": {},
   "source": [
    "We can see that these are very similar in this case, but they need not always be so close."
   ]
  },
  {
   "cell_type": "markdown",
   "metadata": {},
   "source": [
    "### The $\\textrm{BC}_a$ method\n",
    "\n",
    "We will just mention the bias corrected and accelerated bootstrap ($\\textrm{BC}_a$). It accounts for both **bias** and **skewness** of the bootstrap distribution.  The resulting confidence interval is much more complicated to implement, but also has provably better coverage properties:  it is \"second order accurate\" rather than \"first order accurate\".  If you feel the need to use this in your work, one good option is [`scypi.stats.bootstrap`](https://docs.scipy.org/doc/scipy/reference/generated/scipy.stats.bootstrap.html).  The original paper is [Efron 1987. Better bootstrap confidence intervals. Journal of the American Statistical Association 82 (397):171–85](https://www.tandfonline.com/doi/epdf/10.1080/01621459.1987.10478410?needAccess=true).\n",
    "\n"
   ]
  }
 ],
 "metadata": {
  "kernelspec": {
   "display_name": "erdos_spring_2025",
   "language": "python",
   "name": "python3"
  },
  "language_info": {
   "codemirror_mode": {
    "name": "ipython",
    "version": 3
   },
   "file_extension": ".py",
   "mimetype": "text/x-python",
   "name": "python",
   "nbconvert_exporter": "python",
   "pygments_lexer": "ipython3",
   "version": "3.12.8"
  }
 },
 "nbformat": 4,
 "nbformat_minor": 2
}
