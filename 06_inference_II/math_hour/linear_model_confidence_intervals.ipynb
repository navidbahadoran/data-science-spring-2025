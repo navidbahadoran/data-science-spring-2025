{
 "cells": [
  {
   "cell_type": "markdown",
   "metadata": {},
   "source": [
    "# Linear Model Confidence Intervals\n",
    "\n",
    "In this notebook we will establish:\n",
    "\n",
    "* Confidence intervals for linear regression parameters $\\beta_i$\n",
    "* Confidence intervals for conditional outcome means (i.e. confidence intervals for $\\mathbb{E}(Y | x)$)\n",
    "* Prediction intervals for conditional outcomes (i.e. confidence intervals for $Y|x$)"
   ]
  },
  {
   "cell_type": "markdown",
   "metadata": {},
   "source": [
    "## Setting up notation\n",
    "\n",
    "We presume that $Y|x = x^\\top \\beta + \\epsilon$ where $x \\in \\mathbb{R}^{p+1}$ has been augmented with an initial $1$ and $\\epsilon \\sim \\mathcal{N}(0, \\sigma^2)$.\n",
    "\n",
    "We are given an $n \\times (p+1)$ design matrix of features $X$. We are thinking of these $n$ observed feature vectors $x_i$ as fixed.\n",
    "\n",
    "The vector of outcomes $\\vec{Y}_\\textrm{obs}$ is then a random vector in $\\mathbb{R}^n$ which is distributed  $\\vec{Y}_\\textrm{obs} \\sim \\mathcal{N}(X\\beta, \\sigma^2 I_n)$."
   ]
  },
  {
   "cell_type": "markdown",
   "metadata": {},
   "source": [
    "## Confidence intervals for linear regression parameters\n",
    "\n",
    "Since $\\vec{Y}_\\textrm{obs}$ is a random vector, then *fit* linear regression parameters $\\hat{\\beta}$ is a random vector in $\\mathbb{R}^{p+1}$.  Moreover, since $\\hat{\\beta} = (X^\\top X)^{-1}X^\\top \\vec{Y}_{\\textrm{obs}}$, we know that $\\hat{\\beta}$ is multivariate normally distributed.\n",
    "\n",
    "The mean of $\\hat{\\beta}$ is $(X^\\top X)^{-1}X^\\top (X\\beta) = \\beta$.\n",
    "\n",
    "The covariance matrix of $\\hat{\\beta}$ is\n",
    "\n",
    "$$\n",
    "\\begin{align*}\n",
    "\\operatorname{Cov}(\\hat{\\beta})\n",
    "&= \\operatorname{Cov}((X^\\top X)^{-1}X^\\top \\vec{Y}_\\textrm{obs})\\\\\n",
    "&= (X^\\top X)^{-1}X^\\top \\operatorname{Cov} (\\vec{Y}_\\textrm{obs}) ((X^\\top X)^{-1}X^\\top )^\\top\\\\\n",
    "&= (X^\\top X)^{-1}X^\\top \\sigma^2 I_n X (X^\\top X)^{-1}\\\\\n",
    "&= \\sigma^2 (X^\\top X)^{-1}\n",
    "\\end{align*}\n",
    "$$\n",
    "\n",
    "Thus we have that $\\hat{\\beta} \\sim \\mathcal{N}(\\beta, \\sigma^2 (X^\\top X)^{-1})$.\n",
    "\n",
    "Note that $\\hat{\\beta}_i = e_i^\\top \\hat{\\beta} \\sim \\mathcal{N}(\\beta_i, \\sigma^2 e_i^\\top (X^\\top X)^{-1} e_i) = \\mathcal{N}(\\beta_i, \\sigma^2 (X^\\top X)^{-1}_{ii})$.\n",
    "\n",
    "If we somehow knew the population variance $\\sigma^2$ we could immediately use this to construct confidence intervals for $\\beta_i$ using quantiles of the standard normal as follows:\n",
    "\n",
    "Since $\\hat{\\beta}_i \\sim \\mathcal{N}(\\beta_i, \\sigma^2 (X^\\top X)^{-1}_{ii})$, we have that $\\frac{\\hat{\\beta_i} - \\beta_i}{\\sigma \\sqrt{(X^\\top X)^{-1}_{ii}}} \\sim \\mathcal{N}(0,1)$.  Thus we would obtain a $(1-\\alpha)$ confidence interval\n",
    "\n",
    "$$\n",
    "-z_{1-\\alpha/2}< \\frac{\\hat{\\beta_i} - \\beta_i}{\\sigma \\sqrt{(X^\\top X)^{-1}_{ii}}} < z_{1-\\alpha/2}\\\\\n",
    "$$\n",
    "\n",
    "which leads to $\\beta_i$ between $\\hat{\\beta}_i \\pm \\sigma \\sqrt{(X^\\top X)^{-1}_{ii}}z_{1-\\alpha/2}$.\n",
    "\n",
    "Unfortunately we do not know the population variance $\\sigma^2$!  The best we can reasonably expect is to approximate it with the unbiased estimate $\\hat{\\sigma}^2 = \\frac{1}{n-p-1} |\\vec{Y}_{\\textrm{obs}}- X\\hat{\\beta}|^2$."
   ]
  },
  {
   "cell_type": "markdown",
   "metadata": {},
   "source": [
    "![Confidence Interval Geometry](math_hour_assets/conf_int_geometry.png)\n"
   ]
  },
  {
   "cell_type": "markdown",
   "metadata": {},
   "source": [
    "By the geometric version of Cochran's theorem, $\\hat{\\sigma}^2 \\sim \\sigma^2 \\chi^2_{n-p-1}/(n-p-1)$ and $X\\hat{\\beta} - X\\beta$ (and thus $\\hat{\\beta} - \\beta$) is independent of $\\hat{\\sigma}^2$.\n",
    "\n",
    "So we have that\n",
    "\n",
    "$$\n",
    "\\frac{\\hat{\\beta_i} - \\beta_i}{\\hat{\\sigma} \\sqrt{(X^\\top X)^{-1}_{ii}}} \\sim \\frac{\\sigma \\mathcal{N(0,1)}}{\\sigma \\sqrt{\\chi^2_{n-p-1}/(n-p-1)}} = t_{n-p-1}\n",
    "$$\n",
    "\n",
    "We thus obtain the $(1-\\alpha)$ confidence interval $\\hat{\\beta} \\pm \\hat{\\sigma} \\sqrt{(X^\\top X)^{-1}_{ii}} t_{1-\\alpha/2, n-p-1}$."
   ]
  },
  {
   "cell_type": "markdown",
   "metadata": {},
   "source": [
    "## Confidence Intervals for Conditional Outcome Means\n",
    "\n",
    "Let $x_0 \\in \\mathbb{R}^p$ be a fixed new input.  We want a $(1-\\alpha)$ confidence interval for $\\mathbb{E}(Y|x_0) = x_0^\\top \\beta$.\n",
    "\n",
    "We can re-use most of the same ingredients from above:\n",
    "\n",
    "Since $\\hat{\\beta} \\sim \\mathcal{N}(\\beta, \\sigma^2 (X^\\top X)^{-1})$, we know that $x_0^\\top \\hat{\\beta} \\sim \\mathcal{N}(\\beta, \\sigma^2 x_0^\\top(X^\\top X)^{-1} x_0)$\n",
    "\n",
    "So $\\frac{x_0^\\top \\hat{\\beta} - x_0^\\top \\beta}{\\sqrt{x_0^\\top(X^\\top X)^{-1} x_0}} \\sim \\sigma \\mathcal{N}(0, 1)$.\n",
    "\n",
    "On the other hand, we have already shown that $\\hat{\\sigma^2} \\sim \\sigma^2 \\chi^2_{n-p-1}/(n-p-1)$.\n",
    "\n",
    "So we obtain that \n",
    "\n",
    "$$\n",
    "\\frac{x_0^\\top \\hat{\\beta} - x_0^\\top \\beta}{\\hat{\\sigma}  x_0^\\top(X^\\top X)^{-1} x_0} \\sim t_{n-p-1}\n",
    "$$\n",
    "\n",
    "which leads to the confidence interval $$x_0^\\top \\hat{\\beta} \\pm \\hat{\\sigma} \\left( x_0^\\top(X^\\top X)^{-1} x_0 \\right)t_{1-\\alpha/2, n-p-1}$$\n",
    "\n",
    "## Prediction Intervals for Conditional Outcomes\n",
    "\n",
    "The conditional outcome at $x_0$ is distributed as $y_0 = x_0\\beta + \\epsilon$ with $\\epsilon \\sim \\mathcal{N}(0, \\sigma^2)$.\n",
    "\n",
    "Thus $x_0\\hat{\\beta} - y_0 = x_0\\hat{\\beta} - x_0\\beta + \\epsilon \\sim \\mathcal{N}(0, \\sigma^2 (1+x_0^\\top(X^\\top X)^{-1} x_0))$\n",
    "\n",
    "So we obtain\n",
    "\n",
    "$$\n",
    "\\frac{x_0\\hat{\\beta} - y_0}{\\hat{\\sigma} (1+x_0^\\top(X^\\top X)^{-1} x_0)} \\sim t_{n-p-1}\n",
    "$$\n",
    "\n",
    "which leads to the confidence interval $$x_0^\\top \\hat{\\beta} \\pm \\hat{\\sigma}  (1+ x_0^\\top(X^\\top X)^{-1} x_0)t_{1-\\alpha/2, n-p-1}$$\n",
    "\n",
    "\n"
   ]
  }
 ],
 "metadata": {
  "language_info": {
   "name": "python"
  }
 },
 "nbformat": 4,
 "nbformat_minor": 2
}
