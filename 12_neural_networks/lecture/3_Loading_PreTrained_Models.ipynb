{
 "cells": [
  {
   "cell_type": "markdown",
   "id": "1fa7277b",
   "metadata": {},
   "source": [
    "# Loading Pre-Trained Models\n",
    "\n",
    "Real world neural net models can take a long long long time to train. It is thus standard to save these models once they are fit and then load the fitted model at a later time.\n",
    "\n",
    "## What we will accomplish\n",
    "\n",
    "In this notebook we will:\n",
    "- Cover how to load a saved neural network model."
   ]
  },
  {
   "cell_type": "code",
   "execution_count": 1,
   "id": "932035cc",
   "metadata": {},
   "outputs": [],
   "source": [
    "## For data handling\n",
    "import pandas as pd\n",
    "import numpy as np\n",
    "\n",
    "## For plotting\n",
    "import matplotlib.pyplot as plt\n",
    "from seaborn import set_style\n",
    "\n",
    "## This sets the plot style\n",
    "## to have a grid on a white background\n",
    "set_style(\"whitegrid\")"
   ]
  },
  {
   "cell_type": "markdown",
   "id": "38e170d9",
   "metadata": {},
   "source": [
    "## `keras` and `load_model`\n",
    "\n",
    "In the previous notebook we trained a recurrent neural network (RNN) to predict the sentiment of an IMDB movie review. This model did not take a long time to train, but many real-world models take a very long time to train. For example, the popular `Word2Vec` word embedding network took about a day to train.\n",
    "\n",
    "Such models are saved when the training step is complete and then they are reloaded anytime you want to use them.\n",
    "\n",
    "In `keras` a saved model can be loaded with `load_model`. Let's demonstrate this with the IMDB data set."
   ]
  },
  {
   "cell_type": "code",
   "execution_count": 2,
   "id": "521a35c6",
   "metadata": {},
   "outputs": [],
   "source": [
    "## The data is stored in here\n",
    "from keras.datasets import imdb"
   ]
  },
  {
   "cell_type": "code",
   "execution_count": 3,
   "id": "df6bc80c",
   "metadata": {},
   "outputs": [],
   "source": [
    "## This will determine the number of vocab words in our\n",
    "## dictionary\n",
    "max_features = 10000\n",
    "\n",
    "## num_words tells keras to return the reviews so they contain only\n",
    "## the num_words most used words across all the reviews\n",
    "(X_train, y_train), (X_test,y_test) = imdb.load_data(num_words=max_features)"
   ]
  },
  {
   "cell_type": "code",
   "execution_count": 4,
   "id": "63f15ddc",
   "metadata": {},
   "outputs": [],
   "source": [
    "## While we padded our inputs during training, \n",
    "# the fit RNN model can handle variable length or \"ragged\" inputs.\n",
    "from tensorflow import convert_to_tensor\n",
    "from tensorflow import ragged\n",
    "\n",
    "X_train = ragged.constant(X_train)\n",
    "X_test = ragged.constant(X_test)\n",
    "y_train = convert_to_tensor(y_train)\n",
    "y_test = convert_to_tensor(y_test)"
   ]
  },
  {
   "cell_type": "code",
   "execution_count": 5,
   "id": "6f88c502",
   "metadata": {},
   "outputs": [],
   "source": [
    "## import load_model from keras.models\n",
    "from keras.models import load_model"
   ]
  },
  {
   "cell_type": "markdown",
   "id": "41f1fb30",
   "metadata": {},
   "source": [
    "To load a saved model we just have to call `load_model` with the file name."
   ]
  },
  {
   "cell_type": "code",
   "execution_count": 6,
   "id": "9b55f4ab",
   "metadata": {},
   "outputs": [],
   "source": [
    "## call load_model(filename)\n",
    "model = load_model(\"lecture_12_assets/imdb_model.keras\")"
   ]
  },
  {
   "cell_type": "markdown",
   "id": "1adeb938",
   "metadata": {},
   "source": [
    "Now the trained model is loaded and we can use it to make predictions."
   ]
  },
  {
   "cell_type": "code",
   "execution_count": 11,
   "id": "09a1f6e8",
   "metadata": {},
   "outputs": [
    {
     "name": "stdout",
     "output_type": "stream",
     "text": [
      "\u001b[1m1/1\u001b[0m \u001b[32m━━━━━━━━━━━━━━━━━━━━\u001b[0m\u001b[37m\u001b[0m \u001b[1m0s\u001b[0m 54ms/step\n",
      "Our model gives a predicted probability of 0.890 that the review is positive.  The review was actually positive.\n"
     ]
    }
   ],
   "source": [
    "# Try 201 and 203\n",
    "i = 203\n",
    "pred = model.predict(X_test[i].numpy().reshape(1,-1)) # expects batch number as first dimension. \n",
    "sentiment_dict = {0: 'negative', 1: 'positive'}\n",
    "print(f\"Our model gives a predicted probability of {pred[0,0]:.3f} that the review is positive.  The review was actually {sentiment_dict[y_test[i].numpy()]}.\")"
   ]
  },
  {
   "cell_type": "markdown",
   "id": "a317026d",
   "metadata": {},
   "source": [
    "Or we can look at the weights of the trained model."
   ]
  },
  {
   "cell_type": "code",
   "execution_count": 8,
   "id": "767676f9",
   "metadata": {},
   "outputs": [
    {
     "data": {
      "text/plain": [
       "[array([[ 0.02884826,  0.00801658, -0.06131053, ..., -0.02285042,\n",
       "         -0.01943724, -0.03076048],\n",
       "        [-0.05020763,  0.00807079,  0.00889168, ...,  0.00172697,\n",
       "          0.00034818, -0.01953932],\n",
       "        [-0.04015507, -0.04238981, -0.00747604, ...,  0.04435963,\n",
       "          0.04648232, -0.0148211 ],\n",
       "        ...,\n",
       "        [-0.04728872,  0.02901583, -0.03556071, ...,  0.00795459,\n",
       "         -0.03342838, -0.01844463],\n",
       "        [-0.00419197,  0.04952496,  0.04477555, ...,  0.05006815,\n",
       "          0.0037002 ,  0.00810328],\n",
       "        [-0.02657874, -0.00212687, -0.05268318, ...,  0.04004563,\n",
       "          0.04210364, -0.02931171]], dtype=float32),\n",
       " array([[ 0.29842493, -0.36334658, -0.16977952, -0.36969373, -0.26982   ,\n",
       "         -0.25864846,  0.0449782 , -0.22383091,  0.14233282,  0.29654852],\n",
       "        [-0.32492277, -0.01521236,  0.14071792, -0.01342234, -0.3897571 ,\n",
       "         -0.12958536, -0.04356375,  0.14789164,  0.46445248, -0.03178967],\n",
       "        [ 0.07067229,  0.21095426, -0.00825336,  0.2312736 , -0.2695881 ,\n",
       "         -0.1975999 ,  0.35738596,  0.3550438 , -0.31356078,  0.1329053 ],\n",
       "        [-0.10677744, -0.22468717,  0.35993215, -0.2802034 , -0.15437007,\n",
       "         -0.14458956,  0.03314462, -0.23866591,  0.37203914,  0.18206377],\n",
       "        [ 0.29341227,  0.40479118,  0.42393783, -0.3266962 ,  0.5056012 ,\n",
       "          0.33213362, -0.25349173, -0.2700607 , -0.31958157, -0.05125752],\n",
       "        [-0.19854844, -0.16232698, -0.08100522, -0.08891605,  0.18824907,\n",
       "          0.40047058, -0.21006057, -0.02643191, -0.09797649,  0.12135865],\n",
       "        [-0.04912792, -0.31033367, -0.0260106 ,  0.42509574, -0.53344834,\n",
       "         -0.20313275, -0.21613613,  0.3261608 ,  0.00409212,  0.02850255],\n",
       "        [-0.14822948,  0.33644697,  0.31939274, -0.2551065 , -0.33807877,\n",
       "         -0.15123223,  0.4089917 , -0.3765296 ,  0.02392698, -0.01108666],\n",
       "        [-0.14788483, -0.29173958,  0.15849216,  0.19502735,  0.18825915,\n",
       "         -0.3608819 ,  0.26421168,  0.12487253,  0.05816128,  0.07023715],\n",
       "        [-0.15541305,  0.11719812, -0.05519649, -0.21130867, -0.10415612,\n",
       "          0.31450728,  0.17639987, -0.04496793,  0.19711834, -0.35512072],\n",
       "        [ 0.08664759,  0.2909572 ,  0.31305972,  0.28904244,  0.0748236 ,\n",
       "         -0.12504049, -0.23282003,  0.19081616, -0.04528962, -0.1417507 ],\n",
       "        [ 0.01419483,  0.20558737,  0.4267635 ,  0.35650095,  0.06772148,\n",
       "         -0.02168377, -0.3546622 ,  0.14489259, -0.42182192,  0.14851682],\n",
       "        [-0.43285483, -0.05596163,  0.31106815,  0.4094295 ,  0.2905293 ,\n",
       "          0.3711752 ,  0.00588547,  0.04668991, -0.21257868,  0.08029381],\n",
       "        [ 0.03060088, -0.30927366,  0.0751893 ,  0.3423022 , -0.12964053,\n",
       "         -0.40824497,  0.32219958, -0.31643713, -0.36908877,  0.12582994],\n",
       "        [-0.0612208 , -0.07696294, -0.05393399, -0.34570104,  0.16883974,\n",
       "         -0.13025431,  0.4334016 ,  0.09248347,  0.46162242, -0.03797444],\n",
       "        [-0.19798735, -0.34443122,  0.14916697, -0.24269961,  0.01208929,\n",
       "          0.18940271, -0.2762389 ,  0.20915182,  0.12339561, -0.26227856],\n",
       "        [ 0.37676114,  0.39388847,  0.07173504,  0.42974532,  0.28832445,\n",
       "         -0.34794036, -0.08805642,  0.37651315,  0.08101469,  0.16505049],\n",
       "        [-0.4162342 ,  0.07984718,  0.39553547, -0.07513872, -0.17961815,\n",
       "          0.01924556, -0.19975443,  0.40229654,  0.11972168,  0.3400581 ],\n",
       "        [-0.06410539, -0.1056198 , -0.15824859,  0.35220087, -0.47621116,\n",
       "          0.03566634,  0.29101297,  0.07182946, -0.3515943 , -0.08497123],\n",
       "        [ 0.13347523, -0.42090076,  0.23771887,  0.09658729, -0.41391692,\n",
       "         -0.38811848,  0.36834905,  0.27066687,  0.21471402,  0.26792923],\n",
       "        [ 0.10843833, -0.04993872,  0.09224572,  0.4217412 , -0.21419849,\n",
       "          0.24001491, -0.4355099 , -0.16691887, -0.02564359, -0.3665488 ],\n",
       "        [-0.42866564,  0.3432369 ,  0.40721217, -0.31051347, -0.18249355,\n",
       "          0.23904207, -0.20893085, -0.1209491 ,  0.18523133, -0.27391902],\n",
       "        [ 0.130635  , -0.18126526, -0.01957342, -0.28481406, -0.09200367,\n",
       "         -0.26345098, -0.46754074, -0.37351593,  0.02527932, -0.37711838],\n",
       "        [ 0.20584285, -0.00452673,  0.4241873 ,  0.08626269,  0.4889152 ,\n",
       "         -0.13847412,  0.01970959,  0.10241349, -0.2963382 , -0.29746073],\n",
       "        [ 0.38521332, -0.38733348,  0.24396846, -0.10006256, -0.40560412,\n",
       "         -0.10745116, -0.02125075,  0.03555007, -0.00765399, -0.140487  ],\n",
       "        [ 0.40258545,  0.18404932, -0.00390768, -0.04334376, -0.13035965,\n",
       "         -0.1320183 , -0.19806676, -0.00428205, -0.34006003, -0.05912113],\n",
       "        [-0.39916927,  0.17422532, -0.28501457, -0.34711578, -0.2086457 ,\n",
       "          0.376503  , -0.01389469, -0.3747735 ,  0.15782477, -0.43447426],\n",
       "        [-0.02857886,  0.41119432,  0.3666184 , -0.20393723,  0.0333033 ,\n",
       "          0.01292145, -0.35679257,  0.2551456 ,  0.25957745, -0.05062806],\n",
       "        [-0.22374123, -0.05941957, -0.11274328, -0.02451101, -0.14133729,\n",
       "         -0.10039355,  0.34826782,  0.2505249 , -0.26157862,  0.24888207],\n",
       "        [ 0.14348298, -0.07181082, -0.14125964, -0.18550248,  0.15012313,\n",
       "          0.06800494,  0.06962394,  0.32990703,  0.16880761,  0.08850467],\n",
       "        [ 0.17952906,  0.2354911 ,  0.07868634, -0.18478645,  0.08557305,\n",
       "         -0.33688337,  0.03203131,  0.21144986,  0.2837039 , -0.2731679 ],\n",
       "        [-0.33675277, -0.19439515, -0.217742  ,  0.03936261,  0.29913586,\n",
       "          0.1353084 ,  0.33366266,  0.25326332, -0.06196191, -0.05933326]],\n",
       "       dtype=float32),\n",
       " array([[ 0.07265109,  0.56207955, -0.1110525 ,  0.11215548, -0.09264829,\n",
       "          0.18358009, -0.4039749 , -0.4444075 , -0.02243577,  0.4701526 ],\n",
       "        [-0.3513187 ,  0.515707  , -0.3031278 , -0.14689924,  0.4377725 ,\n",
       "         -0.11136891,  0.10730363,  0.55579937, -0.35169256,  0.11894763],\n",
       "        [-0.32496244,  0.33001938,  0.70776194,  0.2089267 ,  0.21992119,\n",
       "          0.35005352, -0.00257252,  0.16157883,  0.12329074,  0.23286526],\n",
       "        [-0.14817427, -0.2955033 , -0.19220439, -0.5729095 ,  0.55139947,\n",
       "          0.42097205, -0.4042258 , -0.03501706,  0.21480894,  0.10252817],\n",
       "        [-0.7546565 , -0.22786383, -0.19400229, -0.15252456, -0.3545358 ,\n",
       "         -0.01616769,  0.07889612, -0.26952615, -0.14999036,  0.15584016],\n",
       "        [ 0.00701847, -0.3254111 ,  0.08065188,  0.34969312,  0.22473124,\n",
       "         -0.12116957, -0.6596154 ,  0.12126201, -0.5254806 ,  0.08474425],\n",
       "        [-0.14811312, -0.25130585, -0.27009827,  0.4943155 ,  0.5115585 ,\n",
       "         -0.23371953,  0.37654606, -0.24099173,  0.23768015,  0.31040812],\n",
       "        [-0.08178934,  0.19758102,  0.37677458, -0.58032274,  0.3208931 ,\n",
       "         -0.65909487, -0.07827429, -0.42842832, -0.13660333, -0.13614036],\n",
       "        [ 0.17413105, -0.22801194, -0.00648168, -0.19832498, -0.3574312 ,\n",
       "         -0.44686958,  0.09249254,  0.39362493,  0.38060284,  0.680382  ],\n",
       "        [-0.35935867,  0.13935214, -0.1481138 ,  0.14673664, -0.18582289,\n",
       "         -0.28467187, -0.41063014,  0.22224443,  0.5668447 , -0.31933737]],\n",
       "       dtype=float32),\n",
       " array([-0.00133514,  0.01481516,  0.00787021,  0.02598116,  0.00226305,\n",
       "         0.01289522, -0.00564762, -0.00108316, -0.00806604, -0.00615739],\n",
       "       dtype=float32),\n",
       " array([[ 0.96254677],\n",
       "        [-0.62981766],\n",
       "        [-0.5510648 ],\n",
       "        [ 0.32491654],\n",
       "        [-1.1230808 ],\n",
       "        [-0.8676233 ],\n",
       "        [ 1.1073573 ],\n",
       "        [ 0.73587954],\n",
       "        [ 0.39390922],\n",
       "        [ 0.89762825]], dtype=float32),\n",
       " array([0.00471111], dtype=float32)]"
      ]
     },
     "execution_count": 8,
     "metadata": {},
     "output_type": "execute_result"
    }
   ],
   "source": [
    "## .get_weights()\n",
    "## returns the weights of your model\n",
    "model.get_weights()"
   ]
  },
  {
   "cell_type": "code",
   "execution_count": 9,
   "id": "81d1b6c7",
   "metadata": {},
   "outputs": [
    {
     "name": "stdout",
     "output_type": "stream",
     "text": [
      "(10000, 32)\n",
      "(32, 10)\n",
      "(10, 10)\n",
      "(10,)\n",
      "(10, 1)\n",
      "(1,)\n"
     ]
    }
   ],
   "source": [
    "for weight in model.get_weights():\n",
    "    print(weight.shape)"
   ]
  },
  {
   "cell_type": "markdown",
   "id": "1422e3ad",
   "metadata": {},
   "source": [
    "If we wanted to we could also train the model for additional epochs or perform any other kind of manipulations in which we may be interested."
   ]
  },
  {
   "cell_type": "markdown",
   "id": "c7ef56c4",
   "metadata": {},
   "source": [
    "## Model packages\n",
    "\n",
    "Sometimes pre-trained models will be important enough that they have their own separate python packages. For example, `gensim` for `Word2Vec` <a href=\"https://radimrehurek.com/gensim/auto_examples/tutorials/run_word2vec.html#sphx-glr-auto-examples-tutorials-run-word2vec-py\">https://radimrehurek.com/gensim/auto_examples/tutorials/run_word2vec.html#sphx-glr-auto-examples-tutorials-run-word2vec-py</a> and `Hugging Face` for `BERT` <a href=\"https://huggingface.co/\">https://huggingface.co/</a>."
   ]
  },
  {
   "cell_type": "markdown",
   "id": "65a444a0",
   "metadata": {},
   "source": [
    "--------------------------\n",
    "\n",
    "This notebook was written for the Erd&#337;s Institute C&#337;de Data Science Boot Camp by Matthew Osborne, Ph. D., 2023. Modified by Steven Gubkin 2024.\n",
    "\n",
    "Any potential redistributors must seek and receive permission from Matthew Tyler Osborne, Ph.D. prior to redistribution. Redistribution of the material contained in this repository is conditional on acknowledgement of Matthew Tyler Osborne, Ph.D.'s original authorship and sponsorship of the Erdős Institute as subject to the license (see License.md)"
   ]
  }
 ],
 "metadata": {
  "kernelspec": {
   "display_name": "erdos_spring_2025",
   "language": "python",
   "name": "python3"
  },
  "language_info": {
   "codemirror_mode": {
    "name": "ipython",
    "version": 3
   },
   "file_extension": ".py",
   "mimetype": "text/x-python",
   "name": "python",
   "nbconvert_exporter": "python",
   "pygments_lexer": "ipython3",
   "version": "3.12.8"
  }
 },
 "nbformat": 4,
 "nbformat_minor": 5
}
